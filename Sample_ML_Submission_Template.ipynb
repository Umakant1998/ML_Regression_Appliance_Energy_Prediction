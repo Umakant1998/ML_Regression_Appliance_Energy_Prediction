{
  "nbformat": 4,
  "nbformat_minor": 0,
  "metadata": {
    "colab": {
      "provenance": [],
      "collapsed_sections": [
        "vncDsAP0Gaoa",
        "FJNUwmbgGyua",
        "w6K7xa23Elo4",
        "yQaldy8SH6Dl",
        "mDgbUHAGgjLW",
        "O_i_v8NEhb9l",
        "HhfV-JJviCcP",
        "Y3lxredqlCYt",
        "3RnN4peoiCZX",
        "x71ZqKXriCWQ",
        "7hBIi_osiCS2",
        "JlHwYmJAmNHm",
        "35m5QtbWiB9F",
        "PoPl-ycgm1ru",
        "H0kj-8xxnORC",
        "nA9Y7ga8ng1Z",
        "PBTbrJXOngz2",
        "u3PMJOP6ngxN",
        "dauF4eBmngu3",
        "bKJF3rekwFvQ",
        "MSa1f5Uengrz",
        "GF8Ens_Soomf",
        "0wOQAZs5pc--",
        "K5QZ13OEpz2H",
        "lQ7QKXXCp7Bj",
        "448CDAPjqfQr",
        "KSlN3yHqYklG",
        "t6dVpIINYklI",
        "ijmpgYnKYklI",
        "-JiQyfWJYklI",
        "EM7whBJCYoAo",
        "fge-S5ZAYoAp",
        "85gYPyotYoAp",
        "RoGjAbkUYoAp",
        "4Of9eVA-YrdM",
        "iky9q4vBYrdO",
        "F6T5p64dYrdO",
        "y-Ehk30pYrdP",
        "bamQiAODYuh1",
        "QHF8YVU7Yuh3",
        "GwzvFGzlYuh3",
        "qYpmQ266Yuh3",
        "OH-pJp9IphqM",
        "bbFf2-_FphqN",
        "_ouA3fa0phqN",
        "Seke61FWphqN",
        "PIIx-8_IphqN",
        "t27r6nlMphqO",
        "r2jJGEOYphqO",
        "b0JNsNcRphqO",
        "BZR9WyysphqO",
        "jj7wYXLtphqO",
        "eZrbJ2SmphqO",
        "rFu4xreNphqO",
        "YJ55k-q6phqO",
        "gCFgpxoyphqP",
        "OVtJsKN_phqQ",
        "lssrdh5qphqQ",
        "U2RJ9gkRphqQ",
        "1M8mcRywphqQ",
        "tgIPom80phqQ",
        "JMzcOPDDphqR",
        "x-EpHcCOp1ci",
        "X_VqEhTip1ck",
        "8zGJKyg5p1ck",
        "PVzmfK_Ep1ck",
        "n3dbpmDWp1ck",
        "ylSl6qgtp1ck",
        "ZWILFDl5p1ck",
        "M7G43BXep1ck",
        "Ag9LCva-p1cl",
        "E6MkPsBcp1cl",
        "2cELzS2fp1cl",
        "3MPXvC8up1cl",
        "NC_X3p0fY2L0",
        "UV0SzAkaZNRQ",
        "YPEH6qLeZNRQ",
        "q29F0dvdveiT",
        "EXh0U9oCveiU",
        "22aHeOlLveiV",
        "g-ATYxFrGrvw",
        "Yfr_Vlr8HBkt",
        "8yEUt7NnHlrM",
        "tEA2Xm5dHt1r",
        "I79__PHVH19G",
        "Ou-I18pAyIpj",
        "fF3858GYyt-u",
        "4_0_7-oCpUZd",
        "hwyV_J3ipUZe",
        "3yB-zSqbpUZe",
        "dEUvejAfpUZe",
        "Fd15vwWVpUZf",
        "bn_IUdTipZyH",
        "49K5P_iCpZyH",
        "Nff-vKELpZyI",
        "kLW572S8pZyI",
        "dWbDXHzopZyI",
        "yLjJCtPM0KBk",
        "xiyOF9F70UgQ",
        "7wuGOrhz0itI",
        "id1riN9m0vUs",
        "578E2V7j08f6",
        "89xtkJwZ18nB",
        "67NQN5KX2AMe",
        "Iwf50b-R2tYG",
        "GMQiZwjn3iu7",
        "WVIkgGqN3qsr",
        "XkPnILGE3zoT",
        "Hlsf0x5436Go",
        "mT9DMSJo4nBL",
        "c49ITxTc407N",
        "OeJFEK0N496M",
        "9ExmJH0g5HBk",
        "cJNqERVU536h",
        "k5UmGsbsOxih",
        "T0VqWOYE6DLQ",
        "qBMux9mC6MCf",
        "-oLEiFgy-5Pf",
        "C74aWNz2AliB",
        "2DejudWSA-a0",
        "pEMng2IbBLp7",
        "rAdphbQ9Bhjc",
        "TNVZ9zx19K6k",
        "nqoHp30x9hH9",
        "rMDnDkt2B6du",
        "yiiVWRdJDDil",
        "1UUpS68QDMuG",
        "kexQrXU-DjzY",
        "T5CmagL3EC8N",
        "BhH2vgX9EjGr",
        "qjKvONjwE8ra",
        "P1XJ9OREExlT",
        "VFOzZv6IFROw",
        "TIqpNgepFxVj",
        "VfCC591jGiD4",
        "OB4l2ZhMeS1U",
        "ArJBuiUVfxKd",
        "4qY1EAkEfxKe",
        "PiV4Ypx8fxKe",
        "TfvqoZmBfxKf",
        "dJ2tPlVmpsJ0",
        "JWYfwnehpsJ1",
        "-jK_YjpMpsJ2",
        "HAih1iBOpsJ2",
        "zVGeBEFhpsJ2",
        "bmKjuQ-FpsJ3",
        "Fze-IPXLpx6K",
        "7AN1z2sKpx6M",
        "9PIHJqyupx6M",
        "_-qAgymDpx6N",
        "Z-hykwinpx6N",
        "h_CCil-SKHpo",
        "cBFFvTBNJzUa",
        "HvGl1hHyA_VK",
        "EyNgTHvd2WFk",
        "KH5McJBi2d8v",
        "iW_Lq9qf2h6X",
        "-Kee-DAl2viO",
        "gCX9965dhzqZ",
        "gIfDvo9L0UH2"
      ]
    },
    "kernelspec": {
      "name": "python3",
      "display_name": "Python 3"
    },
    "language_info": {
      "name": "python"
    }
  },
  "cells": [
    {
      "cell_type": "markdown",
      "source": [
        "# **Project Name**    -\n",
        "\n"
      ],
      "metadata": {
        "id": "vncDsAP0Gaoa"
      }
    },
    {
      "cell_type": "markdown",
      "source": [
        "##### **Project Type**    - Regression\n",
        "##### **Contribution**    - Individual\n",
        "##### **Team Member 1**   - Umakant Mahanti"
      ],
      "metadata": {
        "id": "beRrZCGUAJYm"
      }
    },
    {
      "cell_type": "markdown",
      "source": [
        "# **Project Summary -**"
      ],
      "metadata": {
        "id": "FJNUwmbgGyua"
      }
    },
    {
      "cell_type": "markdown",
      "source": [
        "The Appliances Energy Prediction project focuses on developing a predictive model to estimate the total energy usage (in kWh) of a house. The project utilizes the Appliances Energy Prediction dataset obtained from the UCI repository, which contains time series data including temperature and humidity measurements from various rooms within the house. Additional weather data, such as temperature, humidity, and wind speed from the Chivers weather station, is also included in the dataset, providing additional information that may aid in predicting energy consumption.\n",
        "\n",
        "The primary objective is to predict the energy consumption of appliances based on the available variables in the dataset. However, it is worth noting that the dataset only spans a duration of 4.5 months, from January to mid-May, which may present challenges in accurately predicting future energy usage.\n",
        "\n",
        "The project workflow begins with exploratory data analysis (EDA) to gain a comprehensive understanding of the dataset's features and to collect information necessary for model building. The dataset is examined for any missing values, and appropriate imputation techniques are applied to approximate real-world values. Outliers are addressed to ensure they do not disrupt the estimation of the model. Additionally, extra features are introduced to enhance the model's accuracy. The plan also includes incorporating PCA-predicted features, inspired by Kaggle projects, that have shown promise in personal projects.\n",
        "\n",
        "After handling outliers, missing values, and completing feature engineering, the next step involves removing irrelevant features that do not contribute significantly to the model's performance. This includes eliminating correlated features that have minimal impact on the target variable. Finally, the data is scaled, which is essential for both parametric and non-parametric tests.\n",
        "\n",
        "With the data prepared, the focus shifts to model building. Three different support vector machine (SVM) models, a boosting algorithm, and a bagging algorithm are explored and compared. Hyperparameter tuning techniques are employed to identify the best parameters for each model. To avoid retraining, the weights of the best-performing model are saved.\n",
        "\n",
        "This project aims to create a robust predictive model for estimating energy consumption in households. By accurately predicting energy usage, it enables users to make informed decisions regarding energy management and conservation, promoting sustainability and energy efficiency."
      ],
      "metadata": {
        "id": "F6v_1wHtG2nS"
      }
    },
    {
      "cell_type": "markdown",
      "source": [
        "# **GitHub Link -**"
      ],
      "metadata": {
        "id": "w6K7xa23Elo4"
      }
    },
    {
      "cell_type": "markdown",
      "source": [
        "https://github.com/Umakant1998/ML_Regression_Appliance_Energy_Prediction.git"
      ],
      "metadata": {
        "id": "h1o69JH3Eqqn"
      }
    },
    {
      "cell_type": "markdown",
      "source": [
        "# **Problem Statement**\n"
      ],
      "metadata": {
        "id": "yQaldy8SH6Dl"
      }
    },
    {
      "cell_type": "markdown",
      "source": [
        "**Write Problem Statement Here.**"
      ],
      "metadata": {
        "id": "DpeJGUA3kjGy"
      }
    },
    {
      "cell_type": "markdown",
      "source": [
        "# **General Guidelines** : -  "
      ],
      "metadata": {
        "id": "mDgbUHAGgjLW"
      }
    },
    {
      "cell_type": "markdown",
      "source": [
        "1.   Well-structured, formatted, and commented code is required.\n",
        "2.   Exception Handling, Production Grade Code & Deployment Ready Code will be a plus. Those students will be awarded some additional credits.\n",
        "     \n",
        "     The additional credits will have advantages over other students during Star Student selection.\n",
        "       \n",
        "             [ Note: - Deployment Ready Code is defined as, the whole .ipynb notebook should be executable in one go\n",
        "                       without a single error logged. ]\n",
        "\n",
        "3.   Each and every logic should have proper comments.\n",
        "4. You may add as many number of charts you want. Make Sure for each and every chart the following format should be answered.\n",
        "        \n",
        "\n",
        "```\n",
        "# Chart visualization code\n",
        "```\n",
        "            \n",
        "\n",
        "*   Why did you pick the specific chart?\n",
        "*   What is/are the insight(s) found from the chart?\n",
        "* Will the gained insights help creating a positive business impact?\n",
        "Are there any insights that lead to negative growth? Justify with specific reason.\n",
        "\n",
        "5. You have to create at least 15 logical & meaningful charts having important insights.\n",
        "\n",
        "\n",
        "[ Hints : - Do the Vizualization in  a structured way while following \"UBM\" Rule.\n",
        "\n",
        "U - Univariate Analysis,\n",
        "\n",
        "B - Bivariate Analysis (Numerical - Categorical, Numerical - Numerical, Categorical - Categorical)\n",
        "\n",
        "M - Multivariate Analysis\n",
        " ]\n",
        "\n",
        "\n",
        "\n",
        "\n",
        "\n",
        "6. You may add more ml algorithms for model creation. Make sure for each and every algorithm, the following format should be answered.\n",
        "\n",
        "\n",
        "*   Explain the ML Model used and it's performance using Evaluation metric Score Chart.\n",
        "\n",
        "\n",
        "*   Cross- Validation & Hyperparameter Tuning\n",
        "\n",
        "*   Have you seen any improvement? Note down the improvement with updates Evaluation metric Score Chart.\n",
        "\n",
        "*   Explain each evaluation metric's indication towards business and the business impact pf the ML model used.\n",
        "\n",
        "\n",
        "\n",
        "\n",
        "\n",
        "\n",
        "\n",
        "\n",
        "\n",
        "\n",
        "\n",
        "\n",
        "\n",
        "\n",
        "\n",
        "\n",
        "\n",
        "\n"
      ],
      "metadata": {
        "id": "ZrxVaUj-hHfC"
      }
    },
    {
      "cell_type": "markdown",
      "source": [
        "# ***Let's Begin !***"
      ],
      "metadata": {
        "id": "O_i_v8NEhb9l"
      }
    },
    {
      "cell_type": "markdown",
      "source": [
        "## ***1. Know Your Data***"
      ],
      "metadata": {
        "id": "HhfV-JJviCcP"
      }
    },
    {
      "cell_type": "markdown",
      "source": [
        "### Import Libraries"
      ],
      "metadata": {
        "id": "Y3lxredqlCYt"
      }
    },
    {
      "cell_type": "code",
      "source": [
        "# Import Libraries\n",
        "import matplotlib.pyplot as plt\n",
        "import pandas as pd\n",
        "import numpy as np\n",
        "import seaborn as sns\n",
        "import joblib\n",
        "import warnings\n",
        "\n",
        "\n",
        "from sklearn.model_selection import StratifiedShuffleSplit\n",
        "from sklearn.pipeline import Pipeline\n",
        "from sklearn.preprocessing import StandardScaler\n",
        "from sklearn.linear_model import LinearRegression\n",
        "from sklearn.ensemble import RandomForestRegressor\n",
        "from sklearn.metrics import mean_squared_error\n",
        "from sklearn.model_selection import cross_val_score\n",
        "from sklearn.decomposition import PCA\n",
        "from sklearn.model_selection import GridSearchCV\n",
        "from sklearn.model_selection import RandomizedSearchCV\n",
        "from xgboost import XGBRegressor\n",
        "from scipy.stats import pearsonr\n",
        "from sklearn.base import BaseEstimator,TransformerMixin\n",
        "from sklearn.svm import SVR\n",
        "from sklearn.model_selection import train_test_split\n",
        "\n",
        "#avoid warnings\n",
        "warnings.filterwarnings(\"ignore\")"
      ],
      "metadata": {
        "id": "M8Vqi-pPk-HR"
      },
      "execution_count": 1,
      "outputs": []
    },
    {
      "cell_type": "markdown",
      "source": [
        "### Dataset Loading"
      ],
      "metadata": {
        "id": "3RnN4peoiCZX"
      }
    },
    {
      "cell_type": "code",
      "source": [
        "# Load Dataset\n",
        "from google.colab import drive\n",
        "drive.mount('/content/drive')\n",
        "\n",
        "file_path = '/content/drive/MyDrive/AlmaBetter/Machine Learning /Regression/data_application_energy.csv'\n",
        "df=pd.read_csv(file_path)\n"
      ],
      "metadata": {
        "id": "4CkvbW_SlZ_R",
        "colab": {
          "base_uri": "https://localhost:8080/"
        },
        "outputId": "88703311-de95-4e39-87ac-3e1546096def"
      },
      "execution_count": 2,
      "outputs": [
        {
          "output_type": "stream",
          "name": "stdout",
          "text": [
            "Mounted at /content/drive\n"
          ]
        }
      ]
    },
    {
      "cell_type": "markdown",
      "source": [
        "### Dataset First View"
      ],
      "metadata": {
        "id": "x71ZqKXriCWQ"
      }
    },
    {
      "cell_type": "code",
      "source": [
        "# Dataset First Look\n",
        "df"
      ],
      "metadata": {
        "id": "LWNFOSvLl09H",
        "colab": {
          "base_uri": "https://localhost:8080/"
        },
        "outputId": "b42d11ab-6022-4c8d-df2c-784bf90c255d"
      },
      "execution_count": 3,
      "outputs": [
        {
          "output_type": "execute_result",
          "data": {
            "text/plain": [
              "                      date  Appliances  lights         T1       RH_1  \\\n",
              "0      2016-01-11 17:00:00          60      30  19.890000  47.596667   \n",
              "1      2016-01-11 17:10:00          60      30  19.890000  46.693333   \n",
              "2      2016-01-11 17:20:00          50      30  19.890000  46.300000   \n",
              "3      2016-01-11 17:30:00          50      40  19.890000  46.066667   \n",
              "4      2016-01-11 17:40:00          60      40  19.890000  46.333333   \n",
              "...                    ...         ...     ...        ...        ...   \n",
              "19730  2016-05-27 17:20:00         100       0  25.566667  46.560000   \n",
              "19731  2016-05-27 17:30:00          90       0  25.500000  46.500000   \n",
              "19732  2016-05-27 17:40:00         270      10  25.500000  46.596667   \n",
              "19733  2016-05-27 17:50:00         420      10  25.500000  46.990000   \n",
              "19734  2016-05-27 18:00:00         430      10  25.500000  46.600000   \n",
              "\n",
              "              T2       RH_2         T3       RH_3         T4  ...         T9  \\\n",
              "0      19.200000  44.790000  19.790000  44.730000  19.000000  ...  17.033333   \n",
              "1      19.200000  44.722500  19.790000  44.790000  19.000000  ...  17.066667   \n",
              "2      19.200000  44.626667  19.790000  44.933333  18.926667  ...  17.000000   \n",
              "3      19.200000  44.590000  19.790000  45.000000  18.890000  ...  17.000000   \n",
              "4      19.200000  44.530000  19.790000  45.000000  18.890000  ...  17.000000   \n",
              "...          ...        ...        ...        ...        ...  ...        ...   \n",
              "19730  25.890000  42.025714  27.200000  41.163333  24.700000  ...  23.200000   \n",
              "19731  25.754000  42.080000  27.133333  41.223333  24.700000  ...  23.200000   \n",
              "19732  25.628571  42.768571  27.050000  41.690000  24.700000  ...  23.200000   \n",
              "19733  25.414000  43.036000  26.890000  41.290000  24.700000  ...  23.200000   \n",
              "19734  25.264286  42.971429  26.823333  41.156667  24.700000  ...  23.200000   \n",
              "\n",
              "          RH_9      T_out  Press_mm_hg     RH_out  Windspeed  Visibility  \\\n",
              "0      45.5300   6.600000        733.5  92.000000   7.000000   63.000000   \n",
              "1      45.5600   6.483333        733.6  92.000000   6.666667   59.166667   \n",
              "2      45.5000   6.366667        733.7  92.000000   6.333333   55.333333   \n",
              "3      45.4000   6.250000        733.8  92.000000   6.000000   51.500000   \n",
              "4      45.4000   6.133333        733.9  92.000000   5.666667   47.666667   \n",
              "...        ...        ...          ...        ...        ...         ...   \n",
              "19730  46.7900  22.733333        755.2  55.666667   3.333333   23.666667   \n",
              "19731  46.7900  22.600000        755.2  56.000000   3.500000   24.500000   \n",
              "19732  46.7900  22.466667        755.2  56.333333   3.666667   25.333333   \n",
              "19733  46.8175  22.333333        755.2  56.666667   3.833333   26.166667   \n",
              "19734  46.8450  22.200000        755.2  57.000000   4.000000   27.000000   \n",
              "\n",
              "       Tdewpoint        rv1        rv2  \n",
              "0       5.300000  13.275433  13.275433  \n",
              "1       5.200000  18.606195  18.606195  \n",
              "2       5.100000  28.642668  28.642668  \n",
              "3       5.000000  45.410389  45.410389  \n",
              "4       4.900000  10.084097  10.084097  \n",
              "...          ...        ...        ...  \n",
              "19730  13.333333  43.096812  43.096812  \n",
              "19731  13.300000  49.282940  49.282940  \n",
              "19732  13.266667  29.199117  29.199117  \n",
              "19733  13.233333   6.322784   6.322784  \n",
              "19734  13.200000  34.118851  34.118851  \n",
              "\n",
              "[19735 rows x 29 columns]"
            ],
            "text/html": [
              "\n",
              "\n",
              "  <div id=\"df-6a5c2623-d6d7-4b9a-85bc-057fa9a552c2\">\n",
              "    <div class=\"colab-df-container\">\n",
              "      <div>\n",
              "<style scoped>\n",
              "    .dataframe tbody tr th:only-of-type {\n",
              "        vertical-align: middle;\n",
              "    }\n",
              "\n",
              "    .dataframe tbody tr th {\n",
              "        vertical-align: top;\n",
              "    }\n",
              "\n",
              "    .dataframe thead th {\n",
              "        text-align: right;\n",
              "    }\n",
              "</style>\n",
              "<table border=\"1\" class=\"dataframe\">\n",
              "  <thead>\n",
              "    <tr style=\"text-align: right;\">\n",
              "      <th></th>\n",
              "      <th>date</th>\n",
              "      <th>Appliances</th>\n",
              "      <th>lights</th>\n",
              "      <th>T1</th>\n",
              "      <th>RH_1</th>\n",
              "      <th>T2</th>\n",
              "      <th>RH_2</th>\n",
              "      <th>T3</th>\n",
              "      <th>RH_3</th>\n",
              "      <th>T4</th>\n",
              "      <th>...</th>\n",
              "      <th>T9</th>\n",
              "      <th>RH_9</th>\n",
              "      <th>T_out</th>\n",
              "      <th>Press_mm_hg</th>\n",
              "      <th>RH_out</th>\n",
              "      <th>Windspeed</th>\n",
              "      <th>Visibility</th>\n",
              "      <th>Tdewpoint</th>\n",
              "      <th>rv1</th>\n",
              "      <th>rv2</th>\n",
              "    </tr>\n",
              "  </thead>\n",
              "  <tbody>\n",
              "    <tr>\n",
              "      <th>0</th>\n",
              "      <td>2016-01-11 17:00:00</td>\n",
              "      <td>60</td>\n",
              "      <td>30</td>\n",
              "      <td>19.890000</td>\n",
              "      <td>47.596667</td>\n",
              "      <td>19.200000</td>\n",
              "      <td>44.790000</td>\n",
              "      <td>19.790000</td>\n",
              "      <td>44.730000</td>\n",
              "      <td>19.000000</td>\n",
              "      <td>...</td>\n",
              "      <td>17.033333</td>\n",
              "      <td>45.5300</td>\n",
              "      <td>6.600000</td>\n",
              "      <td>733.5</td>\n",
              "      <td>92.000000</td>\n",
              "      <td>7.000000</td>\n",
              "      <td>63.000000</td>\n",
              "      <td>5.300000</td>\n",
              "      <td>13.275433</td>\n",
              "      <td>13.275433</td>\n",
              "    </tr>\n",
              "    <tr>\n",
              "      <th>1</th>\n",
              "      <td>2016-01-11 17:10:00</td>\n",
              "      <td>60</td>\n",
              "      <td>30</td>\n",
              "      <td>19.890000</td>\n",
              "      <td>46.693333</td>\n",
              "      <td>19.200000</td>\n",
              "      <td>44.722500</td>\n",
              "      <td>19.790000</td>\n",
              "      <td>44.790000</td>\n",
              "      <td>19.000000</td>\n",
              "      <td>...</td>\n",
              "      <td>17.066667</td>\n",
              "      <td>45.5600</td>\n",
              "      <td>6.483333</td>\n",
              "      <td>733.6</td>\n",
              "      <td>92.000000</td>\n",
              "      <td>6.666667</td>\n",
              "      <td>59.166667</td>\n",
              "      <td>5.200000</td>\n",
              "      <td>18.606195</td>\n",
              "      <td>18.606195</td>\n",
              "    </tr>\n",
              "    <tr>\n",
              "      <th>2</th>\n",
              "      <td>2016-01-11 17:20:00</td>\n",
              "      <td>50</td>\n",
              "      <td>30</td>\n",
              "      <td>19.890000</td>\n",
              "      <td>46.300000</td>\n",
              "      <td>19.200000</td>\n",
              "      <td>44.626667</td>\n",
              "      <td>19.790000</td>\n",
              "      <td>44.933333</td>\n",
              "      <td>18.926667</td>\n",
              "      <td>...</td>\n",
              "      <td>17.000000</td>\n",
              "      <td>45.5000</td>\n",
              "      <td>6.366667</td>\n",
              "      <td>733.7</td>\n",
              "      <td>92.000000</td>\n",
              "      <td>6.333333</td>\n",
              "      <td>55.333333</td>\n",
              "      <td>5.100000</td>\n",
              "      <td>28.642668</td>\n",
              "      <td>28.642668</td>\n",
              "    </tr>\n",
              "    <tr>\n",
              "      <th>3</th>\n",
              "      <td>2016-01-11 17:30:00</td>\n",
              "      <td>50</td>\n",
              "      <td>40</td>\n",
              "      <td>19.890000</td>\n",
              "      <td>46.066667</td>\n",
              "      <td>19.200000</td>\n",
              "      <td>44.590000</td>\n",
              "      <td>19.790000</td>\n",
              "      <td>45.000000</td>\n",
              "      <td>18.890000</td>\n",
              "      <td>...</td>\n",
              "      <td>17.000000</td>\n",
              "      <td>45.4000</td>\n",
              "      <td>6.250000</td>\n",
              "      <td>733.8</td>\n",
              "      <td>92.000000</td>\n",
              "      <td>6.000000</td>\n",
              "      <td>51.500000</td>\n",
              "      <td>5.000000</td>\n",
              "      <td>45.410389</td>\n",
              "      <td>45.410389</td>\n",
              "    </tr>\n",
              "    <tr>\n",
              "      <th>4</th>\n",
              "      <td>2016-01-11 17:40:00</td>\n",
              "      <td>60</td>\n",
              "      <td>40</td>\n",
              "      <td>19.890000</td>\n",
              "      <td>46.333333</td>\n",
              "      <td>19.200000</td>\n",
              "      <td>44.530000</td>\n",
              "      <td>19.790000</td>\n",
              "      <td>45.000000</td>\n",
              "      <td>18.890000</td>\n",
              "      <td>...</td>\n",
              "      <td>17.000000</td>\n",
              "      <td>45.4000</td>\n",
              "      <td>6.133333</td>\n",
              "      <td>733.9</td>\n",
              "      <td>92.000000</td>\n",
              "      <td>5.666667</td>\n",
              "      <td>47.666667</td>\n",
              "      <td>4.900000</td>\n",
              "      <td>10.084097</td>\n",
              "      <td>10.084097</td>\n",
              "    </tr>\n",
              "    <tr>\n",
              "      <th>...</th>\n",
              "      <td>...</td>\n",
              "      <td>...</td>\n",
              "      <td>...</td>\n",
              "      <td>...</td>\n",
              "      <td>...</td>\n",
              "      <td>...</td>\n",
              "      <td>...</td>\n",
              "      <td>...</td>\n",
              "      <td>...</td>\n",
              "      <td>...</td>\n",
              "      <td>...</td>\n",
              "      <td>...</td>\n",
              "      <td>...</td>\n",
              "      <td>...</td>\n",
              "      <td>...</td>\n",
              "      <td>...</td>\n",
              "      <td>...</td>\n",
              "      <td>...</td>\n",
              "      <td>...</td>\n",
              "      <td>...</td>\n",
              "      <td>...</td>\n",
              "    </tr>\n",
              "    <tr>\n",
              "      <th>19730</th>\n",
              "      <td>2016-05-27 17:20:00</td>\n",
              "      <td>100</td>\n",
              "      <td>0</td>\n",
              "      <td>25.566667</td>\n",
              "      <td>46.560000</td>\n",
              "      <td>25.890000</td>\n",
              "      <td>42.025714</td>\n",
              "      <td>27.200000</td>\n",
              "      <td>41.163333</td>\n",
              "      <td>24.700000</td>\n",
              "      <td>...</td>\n",
              "      <td>23.200000</td>\n",
              "      <td>46.7900</td>\n",
              "      <td>22.733333</td>\n",
              "      <td>755.2</td>\n",
              "      <td>55.666667</td>\n",
              "      <td>3.333333</td>\n",
              "      <td>23.666667</td>\n",
              "      <td>13.333333</td>\n",
              "      <td>43.096812</td>\n",
              "      <td>43.096812</td>\n",
              "    </tr>\n",
              "    <tr>\n",
              "      <th>19731</th>\n",
              "      <td>2016-05-27 17:30:00</td>\n",
              "      <td>90</td>\n",
              "      <td>0</td>\n",
              "      <td>25.500000</td>\n",
              "      <td>46.500000</td>\n",
              "      <td>25.754000</td>\n",
              "      <td>42.080000</td>\n",
              "      <td>27.133333</td>\n",
              "      <td>41.223333</td>\n",
              "      <td>24.700000</td>\n",
              "      <td>...</td>\n",
              "      <td>23.200000</td>\n",
              "      <td>46.7900</td>\n",
              "      <td>22.600000</td>\n",
              "      <td>755.2</td>\n",
              "      <td>56.000000</td>\n",
              "      <td>3.500000</td>\n",
              "      <td>24.500000</td>\n",
              "      <td>13.300000</td>\n",
              "      <td>49.282940</td>\n",
              "      <td>49.282940</td>\n",
              "    </tr>\n",
              "    <tr>\n",
              "      <th>19732</th>\n",
              "      <td>2016-05-27 17:40:00</td>\n",
              "      <td>270</td>\n",
              "      <td>10</td>\n",
              "      <td>25.500000</td>\n",
              "      <td>46.596667</td>\n",
              "      <td>25.628571</td>\n",
              "      <td>42.768571</td>\n",
              "      <td>27.050000</td>\n",
              "      <td>41.690000</td>\n",
              "      <td>24.700000</td>\n",
              "      <td>...</td>\n",
              "      <td>23.200000</td>\n",
              "      <td>46.7900</td>\n",
              "      <td>22.466667</td>\n",
              "      <td>755.2</td>\n",
              "      <td>56.333333</td>\n",
              "      <td>3.666667</td>\n",
              "      <td>25.333333</td>\n",
              "      <td>13.266667</td>\n",
              "      <td>29.199117</td>\n",
              "      <td>29.199117</td>\n",
              "    </tr>\n",
              "    <tr>\n",
              "      <th>19733</th>\n",
              "      <td>2016-05-27 17:50:00</td>\n",
              "      <td>420</td>\n",
              "      <td>10</td>\n",
              "      <td>25.500000</td>\n",
              "      <td>46.990000</td>\n",
              "      <td>25.414000</td>\n",
              "      <td>43.036000</td>\n",
              "      <td>26.890000</td>\n",
              "      <td>41.290000</td>\n",
              "      <td>24.700000</td>\n",
              "      <td>...</td>\n",
              "      <td>23.200000</td>\n",
              "      <td>46.8175</td>\n",
              "      <td>22.333333</td>\n",
              "      <td>755.2</td>\n",
              "      <td>56.666667</td>\n",
              "      <td>3.833333</td>\n",
              "      <td>26.166667</td>\n",
              "      <td>13.233333</td>\n",
              "      <td>6.322784</td>\n",
              "      <td>6.322784</td>\n",
              "    </tr>\n",
              "    <tr>\n",
              "      <th>19734</th>\n",
              "      <td>2016-05-27 18:00:00</td>\n",
              "      <td>430</td>\n",
              "      <td>10</td>\n",
              "      <td>25.500000</td>\n",
              "      <td>46.600000</td>\n",
              "      <td>25.264286</td>\n",
              "      <td>42.971429</td>\n",
              "      <td>26.823333</td>\n",
              "      <td>41.156667</td>\n",
              "      <td>24.700000</td>\n",
              "      <td>...</td>\n",
              "      <td>23.200000</td>\n",
              "      <td>46.8450</td>\n",
              "      <td>22.200000</td>\n",
              "      <td>755.2</td>\n",
              "      <td>57.000000</td>\n",
              "      <td>4.000000</td>\n",
              "      <td>27.000000</td>\n",
              "      <td>13.200000</td>\n",
              "      <td>34.118851</td>\n",
              "      <td>34.118851</td>\n",
              "    </tr>\n",
              "  </tbody>\n",
              "</table>\n",
              "<p>19735 rows × 29 columns</p>\n",
              "</div>\n",
              "      <button class=\"colab-df-convert\" onclick=\"convertToInteractive('df-6a5c2623-d6d7-4b9a-85bc-057fa9a552c2')\"\n",
              "              title=\"Convert this dataframe to an interactive table.\"\n",
              "              style=\"display:none;\">\n",
              "\n",
              "  <svg xmlns=\"http://www.w3.org/2000/svg\" height=\"24px\"viewBox=\"0 0 24 24\"\n",
              "       width=\"24px\">\n",
              "    <path d=\"M0 0h24v24H0V0z\" fill=\"none\"/>\n",
              "    <path d=\"M18.56 5.44l.94 2.06.94-2.06 2.06-.94-2.06-.94-.94-2.06-.94 2.06-2.06.94zm-11 1L8.5 8.5l.94-2.06 2.06-.94-2.06-.94L8.5 2.5l-.94 2.06-2.06.94zm10 10l.94 2.06.94-2.06 2.06-.94-2.06-.94-.94-2.06-.94 2.06-2.06.94z\"/><path d=\"M17.41 7.96l-1.37-1.37c-.4-.4-.92-.59-1.43-.59-.52 0-1.04.2-1.43.59L10.3 9.45l-7.72 7.72c-.78.78-.78 2.05 0 2.83L4 21.41c.39.39.9.59 1.41.59.51 0 1.02-.2 1.41-.59l7.78-7.78 2.81-2.81c.8-.78.8-2.07 0-2.86zM5.41 20L4 18.59l7.72-7.72 1.47 1.35L5.41 20z\"/>\n",
              "  </svg>\n",
              "      </button>\n",
              "\n",
              "\n",
              "\n",
              "    <div id=\"df-1bc4096a-7b5d-4cb4-b179-3320917fcead\">\n",
              "      <button class=\"colab-df-quickchart\" onclick=\"quickchart('df-1bc4096a-7b5d-4cb4-b179-3320917fcead')\"\n",
              "              title=\"Suggest charts.\"\n",
              "              style=\"display:none;\">\n",
              "\n",
              "<svg xmlns=\"http://www.w3.org/2000/svg\" height=\"24px\"viewBox=\"0 0 24 24\"\n",
              "     width=\"24px\">\n",
              "    <g>\n",
              "        <path d=\"M19 3H5c-1.1 0-2 .9-2 2v14c0 1.1.9 2 2 2h14c1.1 0 2-.9 2-2V5c0-1.1-.9-2-2-2zM9 17H7v-7h2v7zm4 0h-2V7h2v10zm4 0h-2v-4h2v4z\"/>\n",
              "    </g>\n",
              "</svg>\n",
              "      </button>\n",
              "    </div>\n",
              "\n",
              "<style>\n",
              "  .colab-df-quickchart {\n",
              "    background-color: #E8F0FE;\n",
              "    border: none;\n",
              "    border-radius: 50%;\n",
              "    cursor: pointer;\n",
              "    display: none;\n",
              "    fill: #1967D2;\n",
              "    height: 32px;\n",
              "    padding: 0 0 0 0;\n",
              "    width: 32px;\n",
              "  }\n",
              "\n",
              "  .colab-df-quickchart:hover {\n",
              "    background-color: #E2EBFA;\n",
              "    box-shadow: 0px 1px 2px rgba(60, 64, 67, 0.3), 0px 1px 3px 1px rgba(60, 64, 67, 0.15);\n",
              "    fill: #174EA6;\n",
              "  }\n",
              "\n",
              "  [theme=dark] .colab-df-quickchart {\n",
              "    background-color: #3B4455;\n",
              "    fill: #D2E3FC;\n",
              "  }\n",
              "\n",
              "  [theme=dark] .colab-df-quickchart:hover {\n",
              "    background-color: #434B5C;\n",
              "    box-shadow: 0px 1px 3px 1px rgba(0, 0, 0, 0.15);\n",
              "    filter: drop-shadow(0px 1px 2px rgba(0, 0, 0, 0.3));\n",
              "    fill: #FFFFFF;\n",
              "  }\n",
              "</style>\n",
              "\n",
              "    <script>\n",
              "      async function quickchart(key) {\n",
              "        const containerElement = document.querySelector('#' + key);\n",
              "        const charts = await google.colab.kernel.invokeFunction(\n",
              "            'suggestCharts', [key], {});\n",
              "      }\n",
              "    </script>\n",
              "\n",
              "      <script>\n",
              "\n",
              "function displayQuickchartButton(domScope) {\n",
              "  let quickchartButtonEl =\n",
              "    domScope.querySelector('#df-1bc4096a-7b5d-4cb4-b179-3320917fcead button.colab-df-quickchart');\n",
              "  quickchartButtonEl.style.display =\n",
              "    google.colab.kernel.accessAllowed ? 'block' : 'none';\n",
              "}\n",
              "\n",
              "        displayQuickchartButton(document);\n",
              "      </script>\n",
              "      <style>\n",
              "    .colab-df-container {\n",
              "      display:flex;\n",
              "      flex-wrap:wrap;\n",
              "      gap: 12px;\n",
              "    }\n",
              "\n",
              "    .colab-df-convert {\n",
              "      background-color: #E8F0FE;\n",
              "      border: none;\n",
              "      border-radius: 50%;\n",
              "      cursor: pointer;\n",
              "      display: none;\n",
              "      fill: #1967D2;\n",
              "      height: 32px;\n",
              "      padding: 0 0 0 0;\n",
              "      width: 32px;\n",
              "    }\n",
              "\n",
              "    .colab-df-convert:hover {\n",
              "      background-color: #E2EBFA;\n",
              "      box-shadow: 0px 1px 2px rgba(60, 64, 67, 0.3), 0px 1px 3px 1px rgba(60, 64, 67, 0.15);\n",
              "      fill: #174EA6;\n",
              "    }\n",
              "\n",
              "    [theme=dark] .colab-df-convert {\n",
              "      background-color: #3B4455;\n",
              "      fill: #D2E3FC;\n",
              "    }\n",
              "\n",
              "    [theme=dark] .colab-df-convert:hover {\n",
              "      background-color: #434B5C;\n",
              "      box-shadow: 0px 1px 3px 1px rgba(0, 0, 0, 0.15);\n",
              "      filter: drop-shadow(0px 1px 2px rgba(0, 0, 0, 0.3));\n",
              "      fill: #FFFFFF;\n",
              "    }\n",
              "  </style>\n",
              "\n",
              "      <script>\n",
              "        const buttonEl =\n",
              "          document.querySelector('#df-6a5c2623-d6d7-4b9a-85bc-057fa9a552c2 button.colab-df-convert');\n",
              "        buttonEl.style.display =\n",
              "          google.colab.kernel.accessAllowed ? 'block' : 'none';\n",
              "\n",
              "        async function convertToInteractive(key) {\n",
              "          const element = document.querySelector('#df-6a5c2623-d6d7-4b9a-85bc-057fa9a552c2');\n",
              "          const dataTable =\n",
              "            await google.colab.kernel.invokeFunction('convertToInteractive',\n",
              "                                                     [key], {});\n",
              "          if (!dataTable) return;\n",
              "\n",
              "          const docLinkHtml = 'Like what you see? Visit the ' +\n",
              "            '<a target=\"_blank\" href=https://colab.research.google.com/notebooks/data_table.ipynb>data table notebook</a>'\n",
              "            + ' to learn more about interactive tables.';\n",
              "          element.innerHTML = '';\n",
              "          dataTable['output_type'] = 'display_data';\n",
              "          await google.colab.output.renderOutput(dataTable, element);\n",
              "          const docLink = document.createElement('div');\n",
              "          docLink.innerHTML = docLinkHtml;\n",
              "          element.appendChild(docLink);\n",
              "        }\n",
              "      </script>\n",
              "    </div>\n",
              "  </div>\n"
            ]
          },
          "metadata": {},
          "execution_count": 3
        }
      ]
    },
    {
      "cell_type": "markdown",
      "source": [
        "### Dataset Rows & Columns count"
      ],
      "metadata": {
        "id": "7hBIi_osiCS2"
      }
    },
    {
      "cell_type": "code",
      "source": [
        "# Dataset Rows & Columns count\n",
        "df.shape"
      ],
      "metadata": {
        "id": "Kllu7SJgmLij",
        "colab": {
          "base_uri": "https://localhost:8080/"
        },
        "outputId": "07897a8e-c5ff-409e-9090-23c11141d725"
      },
      "execution_count": 4,
      "outputs": [
        {
          "output_type": "execute_result",
          "data": {
            "text/plain": [
              "(19735, 29)"
            ]
          },
          "metadata": {},
          "execution_count": 4
        }
      ]
    },
    {
      "cell_type": "markdown",
      "source": [
        "### Dataset Information"
      ],
      "metadata": {
        "id": "JlHwYmJAmNHm"
      }
    },
    {
      "cell_type": "code",
      "source": [
        "# Dataset Info\n",
        "df.info()"
      ],
      "metadata": {
        "id": "e9hRXRi6meOf",
        "colab": {
          "base_uri": "https://localhost:8080/"
        },
        "outputId": "38aff5e0-8f17-4a99-c152-adb16ac739a3"
      },
      "execution_count": 5,
      "outputs": [
        {
          "output_type": "stream",
          "name": "stdout",
          "text": [
            "<class 'pandas.core.frame.DataFrame'>\n",
            "RangeIndex: 19735 entries, 0 to 19734\n",
            "Data columns (total 29 columns):\n",
            " #   Column       Non-Null Count  Dtype  \n",
            "---  ------       --------------  -----  \n",
            " 0   date         19735 non-null  object \n",
            " 1   Appliances   19735 non-null  int64  \n",
            " 2   lights       19735 non-null  int64  \n",
            " 3   T1           19735 non-null  float64\n",
            " 4   RH_1         19735 non-null  float64\n",
            " 5   T2           19735 non-null  float64\n",
            " 6   RH_2         19735 non-null  float64\n",
            " 7   T3           19735 non-null  float64\n",
            " 8   RH_3         19735 non-null  float64\n",
            " 9   T4           19735 non-null  float64\n",
            " 10  RH_4         19735 non-null  float64\n",
            " 11  T5           19735 non-null  float64\n",
            " 12  RH_5         19735 non-null  float64\n",
            " 13  T6           19735 non-null  float64\n",
            " 14  RH_6         19735 non-null  float64\n",
            " 15  T7           19735 non-null  float64\n",
            " 16  RH_7         19735 non-null  float64\n",
            " 17  T8           19735 non-null  float64\n",
            " 18  RH_8         19735 non-null  float64\n",
            " 19  T9           19735 non-null  float64\n",
            " 20  RH_9         19735 non-null  float64\n",
            " 21  T_out        19735 non-null  float64\n",
            " 22  Press_mm_hg  19735 non-null  float64\n",
            " 23  RH_out       19735 non-null  float64\n",
            " 24  Windspeed    19735 non-null  float64\n",
            " 25  Visibility   19735 non-null  float64\n",
            " 26  Tdewpoint    19735 non-null  float64\n",
            " 27  rv1          19735 non-null  float64\n",
            " 28  rv2          19735 non-null  float64\n",
            "dtypes: float64(26), int64(2), object(1)\n",
            "memory usage: 4.4+ MB\n"
          ]
        }
      ]
    },
    {
      "cell_type": "markdown",
      "source": [
        "#### Duplicate Values"
      ],
      "metadata": {
        "id": "35m5QtbWiB9F"
      }
    },
    {
      "cell_type": "code",
      "source": [
        "# Dataset Duplicate Value Count\n",
        "df.duplicated().sum()\n",
        "df.drop_duplicates(inplace=True)\n",
        "df.shape #at this point looks like doesn't have duplicate values"
      ],
      "metadata": {
        "id": "1sLdpKYkmox0",
        "colab": {
          "base_uri": "https://localhost:8080/"
        },
        "outputId": "295d8557-a582-46c7-b931-40b61156be6f"
      },
      "execution_count": 6,
      "outputs": [
        {
          "output_type": "execute_result",
          "data": {
            "text/plain": [
              "(19735, 29)"
            ]
          },
          "metadata": {},
          "execution_count": 6
        }
      ]
    },
    {
      "cell_type": "markdown",
      "source": [
        "#### Missing Values/Null Values"
      ],
      "metadata": {
        "id": "PoPl-ycgm1ru"
      }
    },
    {
      "cell_type": "code",
      "source": [
        "# Missing Values/Null Values Count\n",
        "missing_values = df.isnull().sum()\n",
        "missing_values   #there are no missing values"
      ],
      "metadata": {
        "id": "GgHWkxvamxVg",
        "colab": {
          "base_uri": "https://localhost:8080/"
        },
        "outputId": "6b30c58b-d910-4b1a-f307-85cb177d0ca9"
      },
      "execution_count": 7,
      "outputs": [
        {
          "output_type": "execute_result",
          "data": {
            "text/plain": [
              "date           0\n",
              "Appliances     0\n",
              "lights         0\n",
              "T1             0\n",
              "RH_1           0\n",
              "T2             0\n",
              "RH_2           0\n",
              "T3             0\n",
              "RH_3           0\n",
              "T4             0\n",
              "RH_4           0\n",
              "T5             0\n",
              "RH_5           0\n",
              "T6             0\n",
              "RH_6           0\n",
              "T7             0\n",
              "RH_7           0\n",
              "T8             0\n",
              "RH_8           0\n",
              "T9             0\n",
              "RH_9           0\n",
              "T_out          0\n",
              "Press_mm_hg    0\n",
              "RH_out         0\n",
              "Windspeed      0\n",
              "Visibility     0\n",
              "Tdewpoint      0\n",
              "rv1            0\n",
              "rv2            0\n",
              "dtype: int64"
            ]
          },
          "metadata": {},
          "execution_count": 7
        }
      ]
    },
    {
      "cell_type": "code",
      "source": [
        "# Visualizing the missing values"
      ],
      "metadata": {
        "id": "3q5wnI3om9sJ"
      },
      "execution_count": 8,
      "outputs": []
    },
    {
      "cell_type": "markdown",
      "source": [
        "### What did you know about your dataset?"
      ],
      "metadata": {
        "id": "H0kj-8xxnORC"
      }
    },
    {
      "cell_type": "markdown",
      "source": [
        "![download.png](data:image/png;base64,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)"
      ],
      "metadata": {
        "id": "gfoNAAC-nUe_"
      }
    },
    {
      "cell_type": "markdown",
      "source": [
        "## ***2. Understanding Your Variables***"
      ],
      "metadata": {
        "id": "nA9Y7ga8ng1Z"
      }
    },
    {
      "cell_type": "code",
      "source": [
        "# Dataset Columns\n",
        "df.columns"
      ],
      "metadata": {
        "id": "j7xfkqrt5Ag5",
        "colab": {
          "base_uri": "https://localhost:8080/"
        },
        "outputId": "204ebed6-7fd4-48dc-bc0b-b769abdbf570"
      },
      "execution_count": 9,
      "outputs": [
        {
          "output_type": "execute_result",
          "data": {
            "text/plain": [
              "Index(['date', 'Appliances', 'lights', 'T1', 'RH_1', 'T2', 'RH_2', 'T3',\n",
              "       'RH_3', 'T4', 'RH_4', 'T5', 'RH_5', 'T6', 'RH_6', 'T7', 'RH_7', 'T8',\n",
              "       'RH_8', 'T9', 'RH_9', 'T_out', 'Press_mm_hg', 'RH_out', 'Windspeed',\n",
              "       'Visibility', 'Tdewpoint', 'rv1', 'rv2'],\n",
              "      dtype='object')"
            ]
          },
          "metadata": {},
          "execution_count": 9
        }
      ]
    },
    {
      "cell_type": "code",
      "source": [
        "# Dataset Describe\n",
        "df.describe"
      ],
      "metadata": {
        "id": "DnOaZdaE5Q5t",
        "colab": {
          "base_uri": "https://localhost:8080/"
        },
        "outputId": "cdbe5072-2eb4-4366-c302-22f1a8652ad4"
      },
      "execution_count": 10,
      "outputs": [
        {
          "output_type": "execute_result",
          "data": {
            "text/plain": [
              "<bound method NDFrame.describe of                       date  Appliances  lights         T1       RH_1  \\\n",
              "0      2016-01-11 17:00:00          60      30  19.890000  47.596667   \n",
              "1      2016-01-11 17:10:00          60      30  19.890000  46.693333   \n",
              "2      2016-01-11 17:20:00          50      30  19.890000  46.300000   \n",
              "3      2016-01-11 17:30:00          50      40  19.890000  46.066667   \n",
              "4      2016-01-11 17:40:00          60      40  19.890000  46.333333   \n",
              "...                    ...         ...     ...        ...        ...   \n",
              "19730  2016-05-27 17:20:00         100       0  25.566667  46.560000   \n",
              "19731  2016-05-27 17:30:00          90       0  25.500000  46.500000   \n",
              "19732  2016-05-27 17:40:00         270      10  25.500000  46.596667   \n",
              "19733  2016-05-27 17:50:00         420      10  25.500000  46.990000   \n",
              "19734  2016-05-27 18:00:00         430      10  25.500000  46.600000   \n",
              "\n",
              "              T2       RH_2         T3       RH_3         T4  ...         T9  \\\n",
              "0      19.200000  44.790000  19.790000  44.730000  19.000000  ...  17.033333   \n",
              "1      19.200000  44.722500  19.790000  44.790000  19.000000  ...  17.066667   \n",
              "2      19.200000  44.626667  19.790000  44.933333  18.926667  ...  17.000000   \n",
              "3      19.200000  44.590000  19.790000  45.000000  18.890000  ...  17.000000   \n",
              "4      19.200000  44.530000  19.790000  45.000000  18.890000  ...  17.000000   \n",
              "...          ...        ...        ...        ...        ...  ...        ...   \n",
              "19730  25.890000  42.025714  27.200000  41.163333  24.700000  ...  23.200000   \n",
              "19731  25.754000  42.080000  27.133333  41.223333  24.700000  ...  23.200000   \n",
              "19732  25.628571  42.768571  27.050000  41.690000  24.700000  ...  23.200000   \n",
              "19733  25.414000  43.036000  26.890000  41.290000  24.700000  ...  23.200000   \n",
              "19734  25.264286  42.971429  26.823333  41.156667  24.700000  ...  23.200000   \n",
              "\n",
              "          RH_9      T_out  Press_mm_hg     RH_out  Windspeed  Visibility  \\\n",
              "0      45.5300   6.600000        733.5  92.000000   7.000000   63.000000   \n",
              "1      45.5600   6.483333        733.6  92.000000   6.666667   59.166667   \n",
              "2      45.5000   6.366667        733.7  92.000000   6.333333   55.333333   \n",
              "3      45.4000   6.250000        733.8  92.000000   6.000000   51.500000   \n",
              "4      45.4000   6.133333        733.9  92.000000   5.666667   47.666667   \n",
              "...        ...        ...          ...        ...        ...         ...   \n",
              "19730  46.7900  22.733333        755.2  55.666667   3.333333   23.666667   \n",
              "19731  46.7900  22.600000        755.2  56.000000   3.500000   24.500000   \n",
              "19732  46.7900  22.466667        755.2  56.333333   3.666667   25.333333   \n",
              "19733  46.8175  22.333333        755.2  56.666667   3.833333   26.166667   \n",
              "19734  46.8450  22.200000        755.2  57.000000   4.000000   27.000000   \n",
              "\n",
              "       Tdewpoint        rv1        rv2  \n",
              "0       5.300000  13.275433  13.275433  \n",
              "1       5.200000  18.606195  18.606195  \n",
              "2       5.100000  28.642668  28.642668  \n",
              "3       5.000000  45.410389  45.410389  \n",
              "4       4.900000  10.084097  10.084097  \n",
              "...          ...        ...        ...  \n",
              "19730  13.333333  43.096812  43.096812  \n",
              "19731  13.300000  49.282940  49.282940  \n",
              "19732  13.266667  29.199117  29.199117  \n",
              "19733  13.233333   6.322784   6.322784  \n",
              "19734  13.200000  34.118851  34.118851  \n",
              "\n",
              "[19735 rows x 29 columns]>"
            ]
          },
          "metadata": {},
          "execution_count": 10
        }
      ]
    },
    {
      "cell_type": "markdown",
      "source": [
        "### Variables Description"
      ],
      "metadata": {
        "id": "PBTbrJXOngz2"
      }
    },
    {
      "cell_type": "markdown",
      "source": [
        "*   Date-Time: The timestamp of the recorded data point.\n",
        "*   Appliances: The energy usage of the appliances in the house (target variable).\n",
        "*   Lights: The energy usage of the lights in the house.\n",
        "*   T1-T9: Temperature measurements from different rooms in Celsius.\n",
        "*   RH_1-RH_9: Relative humidity measurements from different rooms as a percentage.\n",
        "*   T_out: Outside temperature in Celsius.\n",
        "*   RH_out: Outside relative humidity as a percentage.\n",
        "*   Press_mm_hg: Atmospheric pressure in mm Hg.\n",
        "*   Windspeed: Wind speed in m/s.\n",
        "*   Visibility: Visibility in km.\n",
        "*   Tdewpoint: Dew point temperature in Celsius.\n",
        "*   RV1, RV2: Random variables for modeling purposes.\n",
        "\n",
        "These variables represent the measurements and characteristics of the house's environment, including temperature, humidity, weather conditions, and other factors that can potentially impact energy consumption. The goal is to use these variables to accurately predict the energy usage of appliances in the house."
      ],
      "metadata": {
        "id": "aJV4KIxSnxay"
      }
    },
    {
      "cell_type": "markdown",
      "source": [
        "### Check Unique Values for each variable."
      ],
      "metadata": {
        "id": "u3PMJOP6ngxN"
      }
    },
    {
      "cell_type": "code",
      "source": [
        "# Check Unique Values for each variable.\n",
        "# Iterate over each column in the DataFrame\n",
        "for column in df.columns:\n",
        "    # Get the unique values in the column\n",
        "    unique_values = df[column].value_counts()\n",
        "\n",
        "    # Print the column name and its unique values\n",
        "    print(f\"Unique values for column '{column}':\")\n",
        "    print(unique_values)\n",
        "    print()"
      ],
      "metadata": {
        "id": "zms12Yq5n-jE",
        "colab": {
          "base_uri": "https://localhost:8080/"
        },
        "outputId": "cea98168-2db9-4c64-e0bc-4141a05c97c6"
      },
      "execution_count": 11,
      "outputs": [
        {
          "output_type": "stream",
          "name": "stdout",
          "text": [
            "Unique values for column 'date':\n",
            "2016-01-11 17:00:00    1\n",
            "2016-04-12 01:30:00    1\n",
            "2016-04-12 02:40:00    1\n",
            "2016-04-12 02:30:00    1\n",
            "2016-04-12 02:20:00    1\n",
            "                      ..\n",
            "2016-02-26 09:10:00    1\n",
            "2016-02-26 09:00:00    1\n",
            "2016-02-26 08:50:00    1\n",
            "2016-02-26 08:40:00    1\n",
            "2016-05-27 18:00:00    1\n",
            "Name: date, Length: 19735, dtype: int64\n",
            "\n",
            "Unique values for column 'Appliances':\n",
            "50      4368\n",
            "60      3282\n",
            "40      2019\n",
            "70      1560\n",
            "80      1205\n",
            "        ... \n",
            "890        1\n",
            "1070       1\n",
            "910        1\n",
            "1080       1\n",
            "840        1\n",
            "Name: Appliances, Length: 92, dtype: int64\n",
            "\n",
            "Unique values for column 'lights':\n",
            "0     15252\n",
            "10     2212\n",
            "20     1624\n",
            "30      559\n",
            "40       77\n",
            "50        9\n",
            "70        1\n",
            "60        1\n",
            "Name: lights, dtype: int64\n",
            "\n",
            "Unique values for column 'T1':\n",
            "21.000000    514\n",
            "21.390000    484\n",
            "21.200000    481\n",
            "21.500000    458\n",
            "21.290000    455\n",
            "            ... \n",
            "20.460000      1\n",
            "20.745000      1\n",
            "22.917500      1\n",
            "22.226667      1\n",
            "23.611688      1\n",
            "Name: T1, Length: 722, dtype: int64\n",
            "\n",
            "Unique values for column 'RH_1':\n",
            "39.090000    152\n",
            "39.400000    144\n",
            "37.700000    141\n",
            "37.200000    140\n",
            "38.290000    139\n",
            "            ... \n",
            "39.063333      1\n",
            "35.167500      1\n",
            "36.317500      1\n",
            "37.745000      1\n",
            "46.600000      1\n",
            "Name: RH_1, Length: 2547, dtype: int64\n",
            "\n",
            "Unique values for column 'T2':\n",
            "19.200000    331\n",
            "19.600000    325\n",
            "19.500000    318\n",
            "19.700000    313\n",
            "19.290000    301\n",
            "            ... \n",
            "25.332857      1\n",
            "25.225714      1\n",
            "25.071429      1\n",
            "24.905714      1\n",
            "25.628571      1\n",
            "Name: T2, Length: 1650, dtype: int64\n",
            "\n",
            "Unique values for column 'RH_2':\n",
            "40.000000    135\n",
            "41.500000    124\n",
            "43.700000    110\n",
            "41.290000    109\n",
            "43.900000    108\n",
            "            ... \n",
            "42.350000      1\n",
            "36.670000      1\n",
            "36.393333      1\n",
            "33.556667      1\n",
            "42.768571      1\n",
            "Name: RH_2, Length: 3376, dtype: int64\n",
            "\n",
            "Unique values for column 'T3':\n",
            "22.390000    433\n",
            "22.100000    372\n",
            "21.790000    369\n",
            "22.600000    338\n",
            "20.200000    329\n",
            "            ... \n",
            "22.233750      1\n",
            "22.628571      1\n",
            "22.777143      1\n",
            "22.873333      1\n",
            "27.050000      1\n",
            "Name: T3, Length: 1426, dtype: int64\n",
            "\n",
            "Unique values for column 'RH_3':\n",
            "37.590000    243\n",
            "37.500000    205\n",
            "38.290000    199\n",
            "37.200000    197\n",
            "37.900000    188\n",
            "            ... \n",
            "39.540000      1\n",
            "39.337143      1\n",
            "39.378000      1\n",
            "39.228571      1\n",
            "41.690000      1\n",
            "Name: RH_3, Length: 2618, dtype: int64\n",
            "\n",
            "Unique values for column 'T4':\n",
            "20.390000    348\n",
            "20.290000    345\n",
            "20.600000    337\n",
            "20.100000    335\n",
            "19.790000    333\n",
            "            ... \n",
            "23.277143      1\n",
            "23.332857      1\n",
            "23.330000      1\n",
            "23.236000      1\n",
            "21.468571      1\n",
            "Name: T4, Length: 1390, dtype: int64\n",
            "\n",
            "Unique values for column 'RH_4':\n",
            "38.590000    169\n",
            "38.200000    166\n",
            "34.790000    146\n",
            "38.090000    145\n",
            "38.290000    140\n",
            "            ... \n",
            "37.300000      1\n",
            "38.330000      1\n",
            "36.245000      1\n",
            "39.956667      1\n",
            "45.333333      1\n",
            "Name: RH_4, Length: 2987, dtype: int64\n",
            "\n",
            "Unique values for column 'T5':\n",
            "18.600000    385\n",
            "18.700000    373\n",
            "19.290000    370\n",
            "20.000000    361\n",
            "18.500000    357\n",
            "            ... \n",
            "18.972500      1\n",
            "19.057143      1\n",
            "19.142857      1\n",
            "19.361429      1\n",
            "22.945000      1\n",
            "Name: T5, Length: 2263, dtype: int64\n",
            "\n",
            "Unique values for column 'RH_5':\n",
            "49.000000    89\n",
            "45.000000    81\n",
            "46.700000    78\n",
            "47.500000    76\n",
            "45.900000    75\n",
            "             ..\n",
            "56.780556     1\n",
            "57.170000     1\n",
            "57.460000     1\n",
            "57.891111     1\n",
            "52.645000     1\n",
            "Name: RH_5, Length: 7571, dtype: int64\n",
            "\n",
            "Unique values for column 'T6':\n",
            "6.400000     86\n",
            "5.590000     84\n",
            "9.600000     78\n",
            "9.100000     78\n",
            "6.300000     76\n",
            "             ..\n",
            "10.333333     1\n",
            "6.850000      1\n",
            "8.230000      1\n",
            "8.472500      1\n",
            "21.026667     1\n",
            "Name: T6, Length: 4446, dtype: int64\n",
            "\n",
            "Unique values for column 'RH_6':\n",
            "1.000000     1452\n",
            "99.900000     751\n",
            "92.300000      53\n",
            "92.190000      38\n",
            "87.690000      29\n",
            "             ... \n",
            "23.763333       1\n",
            "97.293333       1\n",
            "29.366667       1\n",
            "36.056667       1\n",
            "1.696667        1\n",
            "Name: RH_6, Length: 9709, dtype: int64\n",
            "\n",
            "Unique values for column 'T7':\n",
            "18.500000    453\n",
            "19.200000    450\n",
            "19.290000    345\n",
            "19.000000    302\n",
            "18.390000    297\n",
            "            ... \n",
            "19.057143      1\n",
            "19.112500      1\n",
            "19.085714      1\n",
            "19.037500      1\n",
            "24.310000      1\n",
            "Name: T7, Length: 1955, dtype: int64\n",
            "\n",
            "Unique values for column 'RH_7':\n",
            "33.900000    131\n",
            "33.590000    118\n",
            "33.700000    104\n",
            "30.200000     90\n",
            "36.290000     86\n",
            "            ... \n",
            "39.687778      1\n",
            "31.392857      1\n",
            "39.596111      1\n",
            "39.520000      1\n",
            "44.295714      1\n",
            "Name: RH_7, Length: 5891, dtype: int64\n",
            "\n",
            "Unique values for column 'T8':\n",
            "22.790000    386\n",
            "21.790000    301\n",
            "22.700000    289\n",
            "23.390000    276\n",
            "21.390000    275\n",
            "            ... \n",
            "23.012500      1\n",
            "22.903750      1\n",
            "22.914444      1\n",
            "22.845556      1\n",
            "24.662500      1\n",
            "Name: T8, Length: 2228, dtype: int64\n",
            "\n",
            "Unique values for column 'RH_8':\n",
            "39.500000    95\n",
            "39.290000    80\n",
            "39.590000    67\n",
            "39.200000    65\n",
            "43.700000    63\n",
            "             ..\n",
            "47.275556     1\n",
            "47.405556     1\n",
            "47.488889     1\n",
            "47.575000     1\n",
            "49.518750     1\n",
            "Name: RH_8, Length: 6649, dtype: int64\n",
            "\n",
            "Unique values for column 'T9':\n",
            "20.500000    487\n",
            "18.200000    476\n",
            "20.290000    449\n",
            "19.600000    443\n",
            "18.000000    422\n",
            "            ... \n",
            "19.956000      1\n",
            "19.984286      1\n",
            "19.934000      1\n",
            "19.921429      1\n",
            "22.356667      1\n",
            "Name: T9, Length: 924, dtype: int64\n",
            "\n",
            "Unique values for column 'RH_9':\n",
            "39.2000    165\n",
            "39.7900    159\n",
            "39.7000    148\n",
            "38.5000    136\n",
            "37.7000    127\n",
            "          ... \n",
            "44.8900      1\n",
            "43.4475      1\n",
            "45.5950      1\n",
            "46.1600      1\n",
            "46.8450      1\n",
            "Name: RH_9, Length: 3388, dtype: int64\n",
            "\n",
            "Unique values for column 'T_out':\n",
            " 9.800000     119\n",
            " 9.600000     107\n",
            " 5.000000     105\n",
            " 10.100000    105\n",
            " 5.500000      96\n",
            "             ... \n",
            " 14.783333      1\n",
            " 15.116667      1\n",
            " 18.566667      1\n",
            "-3.366667       1\n",
            " 22.133333      1\n",
            "Name: T_out, Length: 1730, dtype: int64\n",
            "\n",
            "Unique values for column 'Press_mm_hg':\n",
            "757.300000    142\n",
            "756.200000    110\n",
            "764.500000     98\n",
            "756.600000     97\n",
            "752.800000     95\n",
            "             ... \n",
            "736.000000      1\n",
            "735.566667      1\n",
            "733.833333      1\n",
            "730.716667      1\n",
            "757.275000      1\n",
            "Name: Press_mm_hg, Length: 2189, dtype: int64\n",
            "\n",
            "Unique values for column 'RH_out':\n",
            "95.000000    470\n",
            "92.000000    342\n",
            "88.000000    341\n",
            "91.000000    332\n",
            "93.000000    318\n",
            "            ... \n",
            "72.583333      1\n",
            "70.416667      1\n",
            "66.083333      1\n",
            "73.916667      1\n",
            "99.083333      1\n",
            "Name: RH_out, Length: 566, dtype: int64\n",
            "\n",
            "Unique values for column 'Windspeed':\n",
            "1.000000    2133\n",
            "2.000000    2007\n",
            "3.000000    1707\n",
            "4.000000    1594\n",
            "5.000000    1084\n",
            "            ... \n",
            "4.857143       1\n",
            "5.142857       1\n",
            "5.285714       1\n",
            "5.428571       1\n",
            "1.083333       1\n",
            "Name: Windspeed, Length: 189, dtype: int64\n",
            "\n",
            "Unique values for column 'Visibility':\n",
            "40.000000    7224\n",
            "29.000000     449\n",
            "36.333333     257\n",
            "23.000000     247\n",
            "28.000000     245\n",
            "             ... \n",
            "1.166667        1\n",
            "7.666667        1\n",
            "14.166667       1\n",
            "11.666667       1\n",
            "45.833333       1\n",
            "Name: Visibility, Length: 413, dtype: int64\n",
            "\n",
            "Unique values for column 'Tdewpoint':\n",
            "0.000000     123\n",
            "1.400000     110\n",
            "2.100000     108\n",
            "2.900000      98\n",
            "2.000000      95\n",
            "            ... \n",
            "5.772222       1\n",
            "5.677778       1\n",
            "5.488889       1\n",
            "5.394444       1\n",
            "11.516667      1\n",
            "Name: Tdewpoint, Length: 1409, dtype: int64\n",
            "\n",
            "Unique values for column 'rv1':\n",
            "13.275433    1\n",
            "46.695186    1\n",
            "21.138136    1\n",
            "15.257452    1\n",
            "12.635949    1\n",
            "            ..\n",
            "13.482677    1\n",
            "49.041706    1\n",
            "30.824058    1\n",
            "20.245405    1\n",
            "34.118851    1\n",
            "Name: rv1, Length: 19735, dtype: int64\n",
            "\n",
            "Unique values for column 'rv2':\n",
            "13.275433    1\n",
            "46.695186    1\n",
            "21.138136    1\n",
            "15.257452    1\n",
            "12.635949    1\n",
            "            ..\n",
            "13.482677    1\n",
            "49.041706    1\n",
            "30.824058    1\n",
            "20.245405    1\n",
            "34.118851    1\n",
            "Name: rv2, Length: 19735, dtype: int64\n",
            "\n"
          ]
        }
      ]
    },
    {
      "cell_type": "markdown",
      "source": [
        "## 3. ***Data Wrangling***"
      ],
      "metadata": {
        "id": "dauF4eBmngu3"
      }
    },
    {
      "cell_type": "markdown",
      "source": [
        "### Data Wrangling Code"
      ],
      "metadata": {
        "id": "bKJF3rekwFvQ"
      }
    },
    {
      "cell_type": "code",
      "source": [
        "#Lights dropping\n",
        "#df= df.drop('lights', axis=1)"
      ],
      "metadata": {
        "id": "OGx3NTqU4__y"
      },
      "execution_count": 78,
      "outputs": []
    },
    {
      "cell_type": "code",
      "source": [
        "#df= df.drop('lights', axis=1)"
      ],
      "metadata": {
        "id": "RBKHLuT87dq8"
      },
      "execution_count": null,
      "outputs": []
    },
    {
      "cell_type": "code",
      "source": [
        "# Divide the columns based on type for clear column management\n",
        "\n",
        "col_temp = [\"T1\",\"T2\",\"T3\",\"T4\",\"T5\",\"T6\",\"T7\",\"T8\",\"T9\"]\n",
        "\n",
        "col_hum = [\"RH_1\",\"RH_2\",\"RH_3\",\"RH_4\",\"RH_5\",\"RH_6\",\"RH_7\",\"RH_8\",\"RH_9\"]\n",
        "\n",
        "col_weather = [\"T_out\", \"Tdewpoint\",\"RH_out\",\"Press_mm_hg\",\n",
        "                \"Windspeed\",\"Visibility\"]\n",
        "\n",
        "col_randoms = [\"rv1\", \"rv2\"]"
      ],
      "metadata": {
        "id": "B1tZlXqf360o"
      },
      "execution_count": 66,
      "outputs": []
    },
    {
      "cell_type": "code",
      "source": [
        "# # Seperate dependent and independent variables\n",
        "feature_df = df[col_temp + col_hum + col_weather + col_randoms]\n",
        "target_df =  df['Appliances']"
      ],
      "metadata": {
        "id": "wk-9a2fpoLcV"
      },
      "execution_count": 70,
      "outputs": []
    },
    {
      "cell_type": "code",
      "source": [
        "feature_df.describe()"
      ],
      "metadata": {
        "colab": {
          "base_uri": "https://localhost:8080/",
          "height": 394
        },
        "id": "Gcfmm5um4PkT",
        "outputId": "5d25c1bc-7734-45d2-9b42-b843dca92403"
      },
      "execution_count": 73,
      "outputs": [
        {
          "output_type": "execute_result",
          "data": {
            "text/plain": [
              "                 T1            T2            T3            T4            T5  \\\n",
              "count  19735.000000  19735.000000  19735.000000  19735.000000  19735.000000   \n",
              "mean      21.686571     20.341219     22.267611     20.855335     19.592106   \n",
              "std        1.606066      2.192974      2.006111      2.042884      1.844623   \n",
              "min       16.790000     16.100000     17.200000     15.100000     15.330000   \n",
              "25%       20.760000     18.790000     20.790000     19.530000     18.277500   \n",
              "50%       21.600000     20.000000     22.100000     20.666667     19.390000   \n",
              "75%       22.600000     21.500000     23.290000     22.100000     20.619643   \n",
              "max       26.260000     29.856667     29.236000     26.200000     25.795000   \n",
              "\n",
              "                 T6            T7            T8            T9          RH_1  \\\n",
              "count  19735.000000  19735.000000  19735.000000  19735.000000  19735.000000   \n",
              "mean       7.910939     20.267106     22.029107     19.485828     40.259739   \n",
              "std        6.090347      2.109993      1.956162      2.014712      3.979299   \n",
              "min       -6.065000     15.390000     16.306667     14.890000     27.023333   \n",
              "25%        3.626667     18.700000     20.790000     18.000000     37.333333   \n",
              "50%        7.300000     20.033333     22.100000     19.390000     39.656667   \n",
              "75%       11.256000     21.600000     23.390000     20.600000     43.066667   \n",
              "max       28.290000     26.000000     27.230000     24.500000     63.360000   \n",
              "\n",
              "       ...          RH_8          RH_9         T_out     Tdewpoint  \\\n",
              "count  ...  19735.000000  19735.000000  19735.000000  19735.000000   \n",
              "mean   ...     42.936165     41.552401      7.411665      3.760707   \n",
              "std    ...      5.224361      4.151497      5.317409      4.194648   \n",
              "min    ...     29.600000     29.166667     -5.000000     -6.600000   \n",
              "25%    ...     39.066667     38.500000      3.666667      0.900000   \n",
              "50%    ...     42.375000     40.900000      6.916667      3.433333   \n",
              "75%    ...     46.536000     44.338095     10.408333      6.566667   \n",
              "max    ...     58.780000     53.326667     26.100000     15.500000   \n",
              "\n",
              "             RH_out   Press_mm_hg     Windspeed    Visibility           rv1  \\\n",
              "count  19735.000000  19735.000000  19735.000000  19735.000000  19735.000000   \n",
              "mean      79.750418    755.522602      4.039752     38.330834     24.988033   \n",
              "std       14.901088      7.399441      2.451221     11.794719     14.496634   \n",
              "min       24.000000    729.300000      0.000000      1.000000      0.005322   \n",
              "25%       70.333333    750.933333      2.000000     29.000000     12.497889   \n",
              "50%       83.666667    756.100000      3.666667     40.000000     24.897653   \n",
              "75%       91.666667    760.933333      5.500000     40.000000     37.583769   \n",
              "max      100.000000    772.300000     14.000000     66.000000     49.996530   \n",
              "\n",
              "                rv2  \n",
              "count  19735.000000  \n",
              "mean      24.988033  \n",
              "std       14.496634  \n",
              "min        0.005322  \n",
              "25%       12.497889  \n",
              "50%       24.897653  \n",
              "75%       37.583769  \n",
              "max       49.996530  \n",
              "\n",
              "[8 rows x 26 columns]"
            ],
            "text/html": [
              "\n",
              "\n",
              "  <div id=\"df-39306fdd-0a25-4d59-ae29-ac992972da3d\">\n",
              "    <div class=\"colab-df-container\">\n",
              "      <div>\n",
              "<style scoped>\n",
              "    .dataframe tbody tr th:only-of-type {\n",
              "        vertical-align: middle;\n",
              "    }\n",
              "\n",
              "    .dataframe tbody tr th {\n",
              "        vertical-align: top;\n",
              "    }\n",
              "\n",
              "    .dataframe thead th {\n",
              "        text-align: right;\n",
              "    }\n",
              "</style>\n",
              "<table border=\"1\" class=\"dataframe\">\n",
              "  <thead>\n",
              "    <tr style=\"text-align: right;\">\n",
              "      <th></th>\n",
              "      <th>T1</th>\n",
              "      <th>T2</th>\n",
              "      <th>T3</th>\n",
              "      <th>T4</th>\n",
              "      <th>T5</th>\n",
              "      <th>T6</th>\n",
              "      <th>T7</th>\n",
              "      <th>T8</th>\n",
              "      <th>T9</th>\n",
              "      <th>RH_1</th>\n",
              "      <th>...</th>\n",
              "      <th>RH_8</th>\n",
              "      <th>RH_9</th>\n",
              "      <th>T_out</th>\n",
              "      <th>Tdewpoint</th>\n",
              "      <th>RH_out</th>\n",
              "      <th>Press_mm_hg</th>\n",
              "      <th>Windspeed</th>\n",
              "      <th>Visibility</th>\n",
              "      <th>rv1</th>\n",
              "      <th>rv2</th>\n",
              "    </tr>\n",
              "  </thead>\n",
              "  <tbody>\n",
              "    <tr>\n",
              "      <th>count</th>\n",
              "      <td>19735.000000</td>\n",
              "      <td>19735.000000</td>\n",
              "      <td>19735.000000</td>\n",
              "      <td>19735.000000</td>\n",
              "      <td>19735.000000</td>\n",
              "      <td>19735.000000</td>\n",
              "      <td>19735.000000</td>\n",
              "      <td>19735.000000</td>\n",
              "      <td>19735.000000</td>\n",
              "      <td>19735.000000</td>\n",
              "      <td>...</td>\n",
              "      <td>19735.000000</td>\n",
              "      <td>19735.000000</td>\n",
              "      <td>19735.000000</td>\n",
              "      <td>19735.000000</td>\n",
              "      <td>19735.000000</td>\n",
              "      <td>19735.000000</td>\n",
              "      <td>19735.000000</td>\n",
              "      <td>19735.000000</td>\n",
              "      <td>19735.000000</td>\n",
              "      <td>19735.000000</td>\n",
              "    </tr>\n",
              "    <tr>\n",
              "      <th>mean</th>\n",
              "      <td>21.686571</td>\n",
              "      <td>20.341219</td>\n",
              "      <td>22.267611</td>\n",
              "      <td>20.855335</td>\n",
              "      <td>19.592106</td>\n",
              "      <td>7.910939</td>\n",
              "      <td>20.267106</td>\n",
              "      <td>22.029107</td>\n",
              "      <td>19.485828</td>\n",
              "      <td>40.259739</td>\n",
              "      <td>...</td>\n",
              "      <td>42.936165</td>\n",
              "      <td>41.552401</td>\n",
              "      <td>7.411665</td>\n",
              "      <td>3.760707</td>\n",
              "      <td>79.750418</td>\n",
              "      <td>755.522602</td>\n",
              "      <td>4.039752</td>\n",
              "      <td>38.330834</td>\n",
              "      <td>24.988033</td>\n",
              "      <td>24.988033</td>\n",
              "    </tr>\n",
              "    <tr>\n",
              "      <th>std</th>\n",
              "      <td>1.606066</td>\n",
              "      <td>2.192974</td>\n",
              "      <td>2.006111</td>\n",
              "      <td>2.042884</td>\n",
              "      <td>1.844623</td>\n",
              "      <td>6.090347</td>\n",
              "      <td>2.109993</td>\n",
              "      <td>1.956162</td>\n",
              "      <td>2.014712</td>\n",
              "      <td>3.979299</td>\n",
              "      <td>...</td>\n",
              "      <td>5.224361</td>\n",
              "      <td>4.151497</td>\n",
              "      <td>5.317409</td>\n",
              "      <td>4.194648</td>\n",
              "      <td>14.901088</td>\n",
              "      <td>7.399441</td>\n",
              "      <td>2.451221</td>\n",
              "      <td>11.794719</td>\n",
              "      <td>14.496634</td>\n",
              "      <td>14.496634</td>\n",
              "    </tr>\n",
              "    <tr>\n",
              "      <th>min</th>\n",
              "      <td>16.790000</td>\n",
              "      <td>16.100000</td>\n",
              "      <td>17.200000</td>\n",
              "      <td>15.100000</td>\n",
              "      <td>15.330000</td>\n",
              "      <td>-6.065000</td>\n",
              "      <td>15.390000</td>\n",
              "      <td>16.306667</td>\n",
              "      <td>14.890000</td>\n",
              "      <td>27.023333</td>\n",
              "      <td>...</td>\n",
              "      <td>29.600000</td>\n",
              "      <td>29.166667</td>\n",
              "      <td>-5.000000</td>\n",
              "      <td>-6.600000</td>\n",
              "      <td>24.000000</td>\n",
              "      <td>729.300000</td>\n",
              "      <td>0.000000</td>\n",
              "      <td>1.000000</td>\n",
              "      <td>0.005322</td>\n",
              "      <td>0.005322</td>\n",
              "    </tr>\n",
              "    <tr>\n",
              "      <th>25%</th>\n",
              "      <td>20.760000</td>\n",
              "      <td>18.790000</td>\n",
              "      <td>20.790000</td>\n",
              "      <td>19.530000</td>\n",
              "      <td>18.277500</td>\n",
              "      <td>3.626667</td>\n",
              "      <td>18.700000</td>\n",
              "      <td>20.790000</td>\n",
              "      <td>18.000000</td>\n",
              "      <td>37.333333</td>\n",
              "      <td>...</td>\n",
              "      <td>39.066667</td>\n",
              "      <td>38.500000</td>\n",
              "      <td>3.666667</td>\n",
              "      <td>0.900000</td>\n",
              "      <td>70.333333</td>\n",
              "      <td>750.933333</td>\n",
              "      <td>2.000000</td>\n",
              "      <td>29.000000</td>\n",
              "      <td>12.497889</td>\n",
              "      <td>12.497889</td>\n",
              "    </tr>\n",
              "    <tr>\n",
              "      <th>50%</th>\n",
              "      <td>21.600000</td>\n",
              "      <td>20.000000</td>\n",
              "      <td>22.100000</td>\n",
              "      <td>20.666667</td>\n",
              "      <td>19.390000</td>\n",
              "      <td>7.300000</td>\n",
              "      <td>20.033333</td>\n",
              "      <td>22.100000</td>\n",
              "      <td>19.390000</td>\n",
              "      <td>39.656667</td>\n",
              "      <td>...</td>\n",
              "      <td>42.375000</td>\n",
              "      <td>40.900000</td>\n",
              "      <td>6.916667</td>\n",
              "      <td>3.433333</td>\n",
              "      <td>83.666667</td>\n",
              "      <td>756.100000</td>\n",
              "      <td>3.666667</td>\n",
              "      <td>40.000000</td>\n",
              "      <td>24.897653</td>\n",
              "      <td>24.897653</td>\n",
              "    </tr>\n",
              "    <tr>\n",
              "      <th>75%</th>\n",
              "      <td>22.600000</td>\n",
              "      <td>21.500000</td>\n",
              "      <td>23.290000</td>\n",
              "      <td>22.100000</td>\n",
              "      <td>20.619643</td>\n",
              "      <td>11.256000</td>\n",
              "      <td>21.600000</td>\n",
              "      <td>23.390000</td>\n",
              "      <td>20.600000</td>\n",
              "      <td>43.066667</td>\n",
              "      <td>...</td>\n",
              "      <td>46.536000</td>\n",
              "      <td>44.338095</td>\n",
              "      <td>10.408333</td>\n",
              "      <td>6.566667</td>\n",
              "      <td>91.666667</td>\n",
              "      <td>760.933333</td>\n",
              "      <td>5.500000</td>\n",
              "      <td>40.000000</td>\n",
              "      <td>37.583769</td>\n",
              "      <td>37.583769</td>\n",
              "    </tr>\n",
              "    <tr>\n",
              "      <th>max</th>\n",
              "      <td>26.260000</td>\n",
              "      <td>29.856667</td>\n",
              "      <td>29.236000</td>\n",
              "      <td>26.200000</td>\n",
              "      <td>25.795000</td>\n",
              "      <td>28.290000</td>\n",
              "      <td>26.000000</td>\n",
              "      <td>27.230000</td>\n",
              "      <td>24.500000</td>\n",
              "      <td>63.360000</td>\n",
              "      <td>...</td>\n",
              "      <td>58.780000</td>\n",
              "      <td>53.326667</td>\n",
              "      <td>26.100000</td>\n",
              "      <td>15.500000</td>\n",
              "      <td>100.000000</td>\n",
              "      <td>772.300000</td>\n",
              "      <td>14.000000</td>\n",
              "      <td>66.000000</td>\n",
              "      <td>49.996530</td>\n",
              "      <td>49.996530</td>\n",
              "    </tr>\n",
              "  </tbody>\n",
              "</table>\n",
              "<p>8 rows × 26 columns</p>\n",
              "</div>\n",
              "      <button class=\"colab-df-convert\" onclick=\"convertToInteractive('df-39306fdd-0a25-4d59-ae29-ac992972da3d')\"\n",
              "              title=\"Convert this dataframe to an interactive table.\"\n",
              "              style=\"display:none;\">\n",
              "\n",
              "  <svg xmlns=\"http://www.w3.org/2000/svg\" height=\"24px\"viewBox=\"0 0 24 24\"\n",
              "       width=\"24px\">\n",
              "    <path d=\"M0 0h24v24H0V0z\" fill=\"none\"/>\n",
              "    <path d=\"M18.56 5.44l.94 2.06.94-2.06 2.06-.94-2.06-.94-.94-2.06-.94 2.06-2.06.94zm-11 1L8.5 8.5l.94-2.06 2.06-.94-2.06-.94L8.5 2.5l-.94 2.06-2.06.94zm10 10l.94 2.06.94-2.06 2.06-.94-2.06-.94-.94-2.06-.94 2.06-2.06.94z\"/><path d=\"M17.41 7.96l-1.37-1.37c-.4-.4-.92-.59-1.43-.59-.52 0-1.04.2-1.43.59L10.3 9.45l-7.72 7.72c-.78.78-.78 2.05 0 2.83L4 21.41c.39.39.9.59 1.41.59.51 0 1.02-.2 1.41-.59l7.78-7.78 2.81-2.81c.8-.78.8-2.07 0-2.86zM5.41 20L4 18.59l7.72-7.72 1.47 1.35L5.41 20z\"/>\n",
              "  </svg>\n",
              "      </button>\n",
              "\n",
              "\n",
              "\n",
              "    <div id=\"df-1270df43-d895-41be-92b1-4f7323e27955\">\n",
              "      <button class=\"colab-df-quickchart\" onclick=\"quickchart('df-1270df43-d895-41be-92b1-4f7323e27955')\"\n",
              "              title=\"Suggest charts.\"\n",
              "              style=\"display:none;\">\n",
              "\n",
              "<svg xmlns=\"http://www.w3.org/2000/svg\" height=\"24px\"viewBox=\"0 0 24 24\"\n",
              "     width=\"24px\">\n",
              "    <g>\n",
              "        <path d=\"M19 3H5c-1.1 0-2 .9-2 2v14c0 1.1.9 2 2 2h14c1.1 0 2-.9 2-2V5c0-1.1-.9-2-2-2zM9 17H7v-7h2v7zm4 0h-2V7h2v10zm4 0h-2v-4h2v4z\"/>\n",
              "    </g>\n",
              "</svg>\n",
              "      </button>\n",
              "    </div>\n",
              "\n",
              "<style>\n",
              "  .colab-df-quickchart {\n",
              "    background-color: #E8F0FE;\n",
              "    border: none;\n",
              "    border-radius: 50%;\n",
              "    cursor: pointer;\n",
              "    display: none;\n",
              "    fill: #1967D2;\n",
              "    height: 32px;\n",
              "    padding: 0 0 0 0;\n",
              "    width: 32px;\n",
              "  }\n",
              "\n",
              "  .colab-df-quickchart:hover {\n",
              "    background-color: #E2EBFA;\n",
              "    box-shadow: 0px 1px 2px rgba(60, 64, 67, 0.3), 0px 1px 3px 1px rgba(60, 64, 67, 0.15);\n",
              "    fill: #174EA6;\n",
              "  }\n",
              "\n",
              "  [theme=dark] .colab-df-quickchart {\n",
              "    background-color: #3B4455;\n",
              "    fill: #D2E3FC;\n",
              "  }\n",
              "\n",
              "  [theme=dark] .colab-df-quickchart:hover {\n",
              "    background-color: #434B5C;\n",
              "    box-shadow: 0px 1px 3px 1px rgba(0, 0, 0, 0.15);\n",
              "    filter: drop-shadow(0px 1px 2px rgba(0, 0, 0, 0.3));\n",
              "    fill: #FFFFFF;\n",
              "  }\n",
              "</style>\n",
              "\n",
              "    <script>\n",
              "      async function quickchart(key) {\n",
              "        const containerElement = document.querySelector('#' + key);\n",
              "        const charts = await google.colab.kernel.invokeFunction(\n",
              "            'suggestCharts', [key], {});\n",
              "      }\n",
              "    </script>\n",
              "\n",
              "      <script>\n",
              "\n",
              "function displayQuickchartButton(domScope) {\n",
              "  let quickchartButtonEl =\n",
              "    domScope.querySelector('#df-1270df43-d895-41be-92b1-4f7323e27955 button.colab-df-quickchart');\n",
              "  quickchartButtonEl.style.display =\n",
              "    google.colab.kernel.accessAllowed ? 'block' : 'none';\n",
              "}\n",
              "\n",
              "        displayQuickchartButton(document);\n",
              "      </script>\n",
              "      <style>\n",
              "    .colab-df-container {\n",
              "      display:flex;\n",
              "      flex-wrap:wrap;\n",
              "      gap: 12px;\n",
              "    }\n",
              "\n",
              "    .colab-df-convert {\n",
              "      background-color: #E8F0FE;\n",
              "      border: none;\n",
              "      border-radius: 50%;\n",
              "      cursor: pointer;\n",
              "      display: none;\n",
              "      fill: #1967D2;\n",
              "      height: 32px;\n",
              "      padding: 0 0 0 0;\n",
              "      width: 32px;\n",
              "    }\n",
              "\n",
              "    .colab-df-convert:hover {\n",
              "      background-color: #E2EBFA;\n",
              "      box-shadow: 0px 1px 2px rgba(60, 64, 67, 0.3), 0px 1px 3px 1px rgba(60, 64, 67, 0.15);\n",
              "      fill: #174EA6;\n",
              "    }\n",
              "\n",
              "    [theme=dark] .colab-df-convert {\n",
              "      background-color: #3B4455;\n",
              "      fill: #D2E3FC;\n",
              "    }\n",
              "\n",
              "    [theme=dark] .colab-df-convert:hover {\n",
              "      background-color: #434B5C;\n",
              "      box-shadow: 0px 1px 3px 1px rgba(0, 0, 0, 0.15);\n",
              "      filter: drop-shadow(0px 1px 2px rgba(0, 0, 0, 0.3));\n",
              "      fill: #FFFFFF;\n",
              "    }\n",
              "  </style>\n",
              "\n",
              "      <script>\n",
              "        const buttonEl =\n",
              "          document.querySelector('#df-39306fdd-0a25-4d59-ae29-ac992972da3d button.colab-df-convert');\n",
              "        buttonEl.style.display =\n",
              "          google.colab.kernel.accessAllowed ? 'block' : 'none';\n",
              "\n",
              "        async function convertToInteractive(key) {\n",
              "          const element = document.querySelector('#df-39306fdd-0a25-4d59-ae29-ac992972da3d');\n",
              "          const dataTable =\n",
              "            await google.colab.kernel.invokeFunction('convertToInteractive',\n",
              "                                                     [key], {});\n",
              "          if (!dataTable) return;\n",
              "\n",
              "          const docLinkHtml = 'Like what you see? Visit the ' +\n",
              "            '<a target=\"_blank\" href=https://colab.research.google.com/notebooks/data_table.ipynb>data table notebook</a>'\n",
              "            + ' to learn more about interactive tables.';\n",
              "          element.innerHTML = '';\n",
              "          dataTable['output_type'] = 'display_data';\n",
              "          await google.colab.output.renderOutput(dataTable, element);\n",
              "          const docLink = document.createElement('div');\n",
              "          docLink.innerHTML = docLinkHtml;\n",
              "          element.appendChild(docLink);\n",
              "        }\n",
              "      </script>\n",
              "    </div>\n",
              "  </div>\n"
            ]
          },
          "metadata": {},
          "execution_count": 73
        }
      ]
    },
    {
      "cell_type": "code",
      "source": [
        "target_df.describe()"
      ],
      "metadata": {
        "colab": {
          "base_uri": "https://localhost:8080/"
        },
        "id": "rugTOg2g4doy",
        "outputId": "613ced01-006d-438c-94a6-f7e21bd1997f"
      },
      "execution_count": 74,
      "outputs": [
        {
          "output_type": "execute_result",
          "data": {
            "text/plain": [
              "count    19735.000000\n",
              "mean        97.694958\n",
              "std        102.524891\n",
              "min         10.000000\n",
              "25%         50.000000\n",
              "50%         60.000000\n",
              "75%        100.000000\n",
              "max       1080.000000\n",
              "Name: Appliances, dtype: float64"
            ]
          },
          "metadata": {},
          "execution_count": 74
        }
      ]
    },
    {
      "cell_type": "markdown",
      "source": [
        "### What all manipulations have you done and insights you found?"
      ],
      "metadata": {
        "id": "MSa1f5Uengrz"
      }
    },
    {
      "cell_type": "markdown",
      "source": [
        "Answer Here."
      ],
      "metadata": {
        "id": "LbyXE7I1olp8"
      }
    },
    {
      "cell_type": "markdown",
      "source": [
        "## ***4. Data Vizualization, Storytelling & Experimenting with charts : Understand the relationships between variables***"
      ],
      "metadata": {
        "id": "GF8Ens_Soomf"
      }
    },
    {
      "cell_type": "markdown",
      "source": [
        "#### Chart - 1"
      ],
      "metadata": {
        "id": "0wOQAZs5pc--"
      }
    },
    {
      "cell_type": "code",
      "source": [
        "#creating histogram for all variable\n",
        "feature_df.iloc[:,1:].hist(bins=50, figsize=(20,15))\n",
        "plt.show()"
      ],
      "metadata": {
        "id": "7v_ESjsspbW7",
        "colab": {
          "base_uri": "https://localhost:8080/",
          "height": 953
        },
        "outputId": "1012bf64-4611-471b-a122-20aa641a4d8f"
      },
      "execution_count": 77,
      "outputs": [
        {
          "output_type": "display_data",
          "data": {
            "text/plain": [
              "<Figure size 2000x1500 with 25 Axes>"
            ],
            "image/png": "[encoded data removed]"
          },
          "metadata": {}
        }
      ]
    },
    {
      "cell_type": "markdown",
      "source": [
        "##### 1. Why did you pick the specific chart?"
      ],
      "metadata": {
        "id": "K5QZ13OEpz2H"
      }
    },
    {
      "cell_type": "markdown",
      "source": [
        "Answer Here."
      ],
      "metadata": {
        "id": "XESiWehPqBRc"
      }
    },
    {
      "cell_type": "markdown",
      "source": [
        "##### 2. What is/are the insight(s) found from the chart?"
      ],
      "metadata": {
        "id": "lQ7QKXXCp7Bj"
      }
    },
    {
      "cell_type": "markdown",
      "source": [
        "Answer Here"
      ],
      "metadata": {
        "id": "C_j1G7yiqdRP"
      }
    },
    {
      "cell_type": "markdown",
      "source": [
        "##### 3. Will the gained insights help creating a positive business impact?\n",
        "Are there any insights that lead to negative growth? Justify with specific reason."
      ],
      "metadata": {
        "id": "448CDAPjqfQr"
      }
    },
    {
      "cell_type": "markdown",
      "source": [
        "Answer Here"
      ],
      "metadata": {
        "id": "3cspy4FjqxJW"
      }
    },
    {
      "cell_type": "markdown",
      "source": [
        "#### Chart - 2"
      ],
      "metadata": {
        "id": "KSlN3yHqYklG"
      }
    },
    {
      "cell_type": "code",
      "source": [
        "# Chart - 2 visualization code"
      ],
      "metadata": {
        "id": "R4YgtaqtYklH"
      },
      "execution_count": 14,
      "outputs": []
    },
    {
      "cell_type": "markdown",
      "source": [
        "##### 1. Why did you pick the specific chart?"
      ],
      "metadata": {
        "id": "t6dVpIINYklI"
      }
    },
    {
      "cell_type": "markdown",
      "source": [
        "Answer Here."
      ],
      "metadata": {
        "id": "5aaW0BYyYklI"
      }
    },
    {
      "cell_type": "markdown",
      "source": [
        "##### 2. What is/are the insight(s) found from the chart?"
      ],
      "metadata": {
        "id": "ijmpgYnKYklI"
      }
    },
    {
      "cell_type": "markdown",
      "source": [
        "Answer Here"
      ],
      "metadata": {
        "id": "PSx9atu2YklI"
      }
    },
    {
      "cell_type": "markdown",
      "source": [
        "##### 3. Will the gained insights help creating a positive business impact?\n",
        "Are there any insights that lead to negative growth? Justify with specific reason."
      ],
      "metadata": {
        "id": "-JiQyfWJYklI"
      }
    },
    {
      "cell_type": "markdown",
      "source": [
        "Answer Here"
      ],
      "metadata": {
        "id": "BcBbebzrYklV"
      }
    },
    {
      "cell_type": "markdown",
      "source": [
        "#### Chart - 3"
      ],
      "metadata": {
        "id": "EM7whBJCYoAo"
      }
    },
    {
      "cell_type": "code",
      "source": [
        "# Chart - 3 visualization code"
      ],
      "metadata": {
        "id": "t6GMdE67YoAp"
      },
      "execution_count": 15,
      "outputs": []
    },
    {
      "cell_type": "markdown",
      "source": [
        "##### 1. Why did you pick the specific chart?"
      ],
      "metadata": {
        "id": "fge-S5ZAYoAp"
      }
    },
    {
      "cell_type": "markdown",
      "source": [
        "Answer Here."
      ],
      "metadata": {
        "id": "5dBItgRVYoAp"
      }
    },
    {
      "cell_type": "markdown",
      "source": [
        "##### 2. What is/are the insight(s) found from the chart?"
      ],
      "metadata": {
        "id": "85gYPyotYoAp"
      }
    },
    {
      "cell_type": "markdown",
      "source": [
        "Answer Here"
      ],
      "metadata": {
        "id": "4jstXR6OYoAp"
      }
    },
    {
      "cell_type": "markdown",
      "source": [
        "##### 3. Will the gained insights help creating a positive business impact?\n",
        "Are there any insights that lead to negative growth? Justify with specific reason."
      ],
      "metadata": {
        "id": "RoGjAbkUYoAp"
      }
    },
    {
      "cell_type": "markdown",
      "source": [
        "Answer Here"
      ],
      "metadata": {
        "id": "zfJ8IqMcYoAp"
      }
    },
    {
      "cell_type": "markdown",
      "source": [
        "#### Chart - 4"
      ],
      "metadata": {
        "id": "4Of9eVA-YrdM"
      }
    },
    {
      "cell_type": "code",
      "source": [
        "# Chart - 4 visualization code"
      ],
      "metadata": {
        "id": "irlUoxc8YrdO"
      },
      "execution_count": 16,
      "outputs": []
    },
    {
      "cell_type": "markdown",
      "source": [
        "##### 1. Why did you pick the specific chart?"
      ],
      "metadata": {
        "id": "iky9q4vBYrdO"
      }
    },
    {
      "cell_type": "markdown",
      "source": [
        "Answer Here."
      ],
      "metadata": {
        "id": "aJRCwT6DYrdO"
      }
    },
    {
      "cell_type": "markdown",
      "source": [
        "##### 2. What is/are the insight(s) found from the chart?"
      ],
      "metadata": {
        "id": "F6T5p64dYrdO"
      }
    },
    {
      "cell_type": "markdown",
      "source": [
        "Answer Here"
      ],
      "metadata": {
        "id": "Xx8WAJvtYrdO"
      }
    },
    {
      "cell_type": "markdown",
      "source": [
        "##### 3. Will the gained insights help creating a positive business impact?\n",
        "Are there any insights that lead to negative growth? Justify with specific reason."
      ],
      "metadata": {
        "id": "y-Ehk30pYrdP"
      }
    },
    {
      "cell_type": "markdown",
      "source": [
        "Answer Here"
      ],
      "metadata": {
        "id": "jLNxxz7MYrdP"
      }
    },
    {
      "cell_type": "markdown",
      "source": [
        "#### Chart - 5"
      ],
      "metadata": {
        "id": "bamQiAODYuh1"
      }
    },
    {
      "cell_type": "code",
      "source": [
        "# Chart - 5 visualization code"
      ],
      "metadata": {
        "id": "TIJwrbroYuh3"
      },
      "execution_count": 17,
      "outputs": []
    },
    {
      "cell_type": "markdown",
      "source": [
        "##### 1. Why did you pick the specific chart?"
      ],
      "metadata": {
        "id": "QHF8YVU7Yuh3"
      }
    },
    {
      "cell_type": "markdown",
      "source": [
        "Answer Here."
      ],
      "metadata": {
        "id": "dcxuIMRPYuh3"
      }
    },
    {
      "cell_type": "markdown",
      "source": [
        "##### 2. What is/are the insight(s) found from the chart?"
      ],
      "metadata": {
        "id": "GwzvFGzlYuh3"
      }
    },
    {
      "cell_type": "markdown",
      "source": [
        "Answer Here"
      ],
      "metadata": {
        "id": "uyqkiB8YYuh3"
      }
    },
    {
      "cell_type": "markdown",
      "source": [
        "##### 3. Will the gained insights help creating a positive business impact?\n",
        "Are there any insights that lead to negative growth? Justify with specific reason."
      ],
      "metadata": {
        "id": "qYpmQ266Yuh3"
      }
    },
    {
      "cell_type": "markdown",
      "source": [
        "Answer Here"
      ],
      "metadata": {
        "id": "_WtzZ_hCYuh4"
      }
    },
    {
      "cell_type": "markdown",
      "source": [
        "#### Chart - 6"
      ],
      "metadata": {
        "id": "OH-pJp9IphqM"
      }
    },
    {
      "cell_type": "code",
      "source": [
        "# Chart - 6 visualization code"
      ],
      "metadata": {
        "id": "kuRf4wtuphqN"
      },
      "execution_count": 18,
      "outputs": []
    },
    {
      "cell_type": "markdown",
      "source": [
        "##### 1. Why did you pick the specific chart?"
      ],
      "metadata": {
        "id": "bbFf2-_FphqN"
      }
    },
    {
      "cell_type": "markdown",
      "source": [
        "Answer Here."
      ],
      "metadata": {
        "id": "loh7H2nzphqN"
      }
    },
    {
      "cell_type": "markdown",
      "source": [
        "##### 2. What is/are the insight(s) found from the chart?"
      ],
      "metadata": {
        "id": "_ouA3fa0phqN"
      }
    },
    {
      "cell_type": "markdown",
      "source": [
        "Answer Here"
      ],
      "metadata": {
        "id": "VECbqPI7phqN"
      }
    },
    {
      "cell_type": "markdown",
      "source": [
        "##### 3. Will the gained insights help creating a positive business impact?\n",
        "Are there any insights that lead to negative growth? Justify with specific reason."
      ],
      "metadata": {
        "id": "Seke61FWphqN"
      }
    },
    {
      "cell_type": "markdown",
      "source": [
        "Answer Here"
      ],
      "metadata": {
        "id": "DW4_bGpfphqN"
      }
    },
    {
      "cell_type": "markdown",
      "source": [
        "#### Chart - 7"
      ],
      "metadata": {
        "id": "PIIx-8_IphqN"
      }
    },
    {
      "cell_type": "code",
      "source": [
        "# Chart - 7 visualization code"
      ],
      "metadata": {
        "id": "lqAIGUfyphqO"
      },
      "execution_count": 19,
      "outputs": []
    },
    {
      "cell_type": "markdown",
      "source": [
        "##### 1. Why did you pick the specific chart?"
      ],
      "metadata": {
        "id": "t27r6nlMphqO"
      }
    },
    {
      "cell_type": "markdown",
      "source": [
        "Answer Here."
      ],
      "metadata": {
        "id": "iv6ro40sphqO"
      }
    },
    {
      "cell_type": "markdown",
      "source": [
        "##### 2. What is/are the insight(s) found from the chart?"
      ],
      "metadata": {
        "id": "r2jJGEOYphqO"
      }
    },
    {
      "cell_type": "markdown",
      "source": [
        "Answer Here"
      ],
      "metadata": {
        "id": "Po6ZPi4hphqO"
      }
    },
    {
      "cell_type": "markdown",
      "source": [
        "##### 3. Will the gained insights help creating a positive business impact?\n",
        "Are there any insights that lead to negative growth? Justify with specific reason."
      ],
      "metadata": {
        "id": "b0JNsNcRphqO"
      }
    },
    {
      "cell_type": "markdown",
      "source": [
        "Answer Here"
      ],
      "metadata": {
        "id": "xvSq8iUTphqO"
      }
    },
    {
      "cell_type": "markdown",
      "source": [
        "#### Chart - 8"
      ],
      "metadata": {
        "id": "BZR9WyysphqO"
      }
    },
    {
      "cell_type": "code",
      "source": [
        "# Chart - 8 visualization code"
      ],
      "metadata": {
        "id": "TdPTWpAVphqO"
      },
      "execution_count": 20,
      "outputs": []
    },
    {
      "cell_type": "markdown",
      "source": [
        "##### 1. Why did you pick the specific chart?"
      ],
      "metadata": {
        "id": "jj7wYXLtphqO"
      }
    },
    {
      "cell_type": "markdown",
      "source": [
        "Answer Here."
      ],
      "metadata": {
        "id": "Ob8u6rCTphqO"
      }
    },
    {
      "cell_type": "markdown",
      "source": [
        "##### 2. What is/are the insight(s) found from the chart?"
      ],
      "metadata": {
        "id": "eZrbJ2SmphqO"
      }
    },
    {
      "cell_type": "markdown",
      "source": [
        "Answer Here"
      ],
      "metadata": {
        "id": "mZtgC_hjphqO"
      }
    },
    {
      "cell_type": "markdown",
      "source": [
        "##### 3. Will the gained insights help creating a positive business impact?\n",
        "Are there any insights that lead to negative growth? Justify with specific reason."
      ],
      "metadata": {
        "id": "rFu4xreNphqO"
      }
    },
    {
      "cell_type": "markdown",
      "source": [
        "Answer Here"
      ],
      "metadata": {
        "id": "ey_0qi68phqO"
      }
    },
    {
      "cell_type": "markdown",
      "source": [
        "#### Chart - 9"
      ],
      "metadata": {
        "id": "YJ55k-q6phqO"
      }
    },
    {
      "cell_type": "code",
      "source": [
        "# Chart - 9 visualization code"
      ],
      "metadata": {
        "id": "B2aS4O1ophqO"
      },
      "execution_count": 21,
      "outputs": []
    },
    {
      "cell_type": "markdown",
      "source": [
        "##### 1. Why did you pick the specific chart?"
      ],
      "metadata": {
        "id": "gCFgpxoyphqP"
      }
    },
    {
      "cell_type": "markdown",
      "source": [
        "Answer Here."
      ],
      "metadata": {
        "id": "TVxDimi2phqP"
      }
    },
    {
      "cell_type": "markdown",
      "source": [
        "##### 2. What is/are the insight(s) found from the chart?"
      ],
      "metadata": {
        "id": "OVtJsKN_phqQ"
      }
    },
    {
      "cell_type": "markdown",
      "source": [
        "Answer Here"
      ],
      "metadata": {
        "id": "ngGi97qjphqQ"
      }
    },
    {
      "cell_type": "markdown",
      "source": [
        "##### 3. Will the gained insights help creating a positive business impact?\n",
        "Are there any insights that lead to negative growth? Justify with specific reason."
      ],
      "metadata": {
        "id": "lssrdh5qphqQ"
      }
    },
    {
      "cell_type": "markdown",
      "source": [
        "Answer Here"
      ],
      "metadata": {
        "id": "tBpY5ekJphqQ"
      }
    },
    {
      "cell_type": "markdown",
      "source": [
        "#### Chart - 10"
      ],
      "metadata": {
        "id": "U2RJ9gkRphqQ"
      }
    },
    {
      "cell_type": "code",
      "source": [
        "# Chart - 10 visualization code"
      ],
      "metadata": {
        "id": "GM7a4YP4phqQ"
      },
      "execution_count": 22,
      "outputs": []
    },
    {
      "cell_type": "markdown",
      "source": [
        "##### 1. Why did you pick the specific chart?"
      ],
      "metadata": {
        "id": "1M8mcRywphqQ"
      }
    },
    {
      "cell_type": "markdown",
      "source": [
        "Answer Here."
      ],
      "metadata": {
        "id": "8agQvks0phqQ"
      }
    },
    {
      "cell_type": "markdown",
      "source": [
        "##### 2. What is/are the insight(s) found from the chart?"
      ],
      "metadata": {
        "id": "tgIPom80phqQ"
      }
    },
    {
      "cell_type": "markdown",
      "source": [
        "Answer Here"
      ],
      "metadata": {
        "id": "Qp13pnNzphqQ"
      }
    },
    {
      "cell_type": "markdown",
      "source": [
        "##### 3. Will the gained insights help creating a positive business impact?\n",
        "Are there any insights that lead to negative growth? Justify with specific reason."
      ],
      "metadata": {
        "id": "JMzcOPDDphqR"
      }
    },
    {
      "cell_type": "markdown",
      "source": [
        "Answer Here"
      ],
      "metadata": {
        "id": "R4Ka1PC2phqR"
      }
    },
    {
      "cell_type": "markdown",
      "source": [
        "#### Chart - 11"
      ],
      "metadata": {
        "id": "x-EpHcCOp1ci"
      }
    },
    {
      "cell_type": "code",
      "source": [
        "# Chart - 11 visualization code"
      ],
      "metadata": {
        "id": "mAQTIvtqp1cj"
      },
      "execution_count": 23,
      "outputs": []
    },
    {
      "cell_type": "markdown",
      "source": [
        "##### 1. Why did you pick the specific chart?"
      ],
      "metadata": {
        "id": "X_VqEhTip1ck"
      }
    },
    {
      "cell_type": "markdown",
      "source": [
        "Answer Here."
      ],
      "metadata": {
        "id": "-vsMzt_np1ck"
      }
    },
    {
      "cell_type": "markdown",
      "source": [
        "##### 2. What is/are the insight(s) found from the chart?"
      ],
      "metadata": {
        "id": "8zGJKyg5p1ck"
      }
    },
    {
      "cell_type": "markdown",
      "source": [
        "Answer Here"
      ],
      "metadata": {
        "id": "ZYdMsrqVp1ck"
      }
    },
    {
      "cell_type": "markdown",
      "source": [
        "##### 3. Will the gained insights help creating a positive business impact?\n",
        "Are there any insights that lead to negative growth? Justify with specific reason."
      ],
      "metadata": {
        "id": "PVzmfK_Ep1ck"
      }
    },
    {
      "cell_type": "markdown",
      "source": [
        "Answer Here"
      ],
      "metadata": {
        "id": "druuKYZpp1ck"
      }
    },
    {
      "cell_type": "markdown",
      "source": [
        "#### Chart - 12"
      ],
      "metadata": {
        "id": "n3dbpmDWp1ck"
      }
    },
    {
      "cell_type": "code",
      "source": [
        "# Chart - 12 visualization code"
      ],
      "metadata": {
        "id": "bwevp1tKp1ck"
      },
      "execution_count": 24,
      "outputs": []
    },
    {
      "cell_type": "markdown",
      "source": [
        "##### 1. Why did you pick the specific chart?"
      ],
      "metadata": {
        "id": "ylSl6qgtp1ck"
      }
    },
    {
      "cell_type": "markdown",
      "source": [
        "Answer Here."
      ],
      "metadata": {
        "id": "m2xqNkiQp1ck"
      }
    },
    {
      "cell_type": "markdown",
      "source": [
        "##### 2. What is/are the insight(s) found from the chart?"
      ],
      "metadata": {
        "id": "ZWILFDl5p1ck"
      }
    },
    {
      "cell_type": "markdown",
      "source": [
        "Answer Here"
      ],
      "metadata": {
        "id": "x-lUsV2mp1ck"
      }
    },
    {
      "cell_type": "markdown",
      "source": [
        "##### 3. Will the gained insights help creating a positive business impact?\n",
        "Are there any insights that lead to negative growth? Justify with specific reason."
      ],
      "metadata": {
        "id": "M7G43BXep1ck"
      }
    },
    {
      "cell_type": "markdown",
      "source": [
        "Answer Here"
      ],
      "metadata": {
        "id": "5wwDJXsLp1cl"
      }
    },
    {
      "cell_type": "markdown",
      "source": [
        "#### Chart - 13"
      ],
      "metadata": {
        "id": "Ag9LCva-p1cl"
      }
    },
    {
      "cell_type": "code",
      "source": [
        "# Chart - 13 visualization code"
      ],
      "metadata": {
        "id": "EUfxeq9-p1cl"
      },
      "execution_count": 25,
      "outputs": []
    },
    {
      "cell_type": "markdown",
      "source": [
        "##### 1. Why did you pick the specific chart?"
      ],
      "metadata": {
        "id": "E6MkPsBcp1cl"
      }
    },
    {
      "cell_type": "markdown",
      "source": [
        "Answer Here."
      ],
      "metadata": {
        "id": "V22bRsFWp1cl"
      }
    },
    {
      "cell_type": "markdown",
      "source": [
        "##### 2. What is/are the insight(s) found from the chart?"
      ],
      "metadata": {
        "id": "2cELzS2fp1cl"
      }
    },
    {
      "cell_type": "markdown",
      "source": [
        "Answer Here"
      ],
      "metadata": {
        "id": "ozQPc2_Ip1cl"
      }
    },
    {
      "cell_type": "markdown",
      "source": [
        "##### 3. Will the gained insights help creating a positive business impact?\n",
        "Are there any insights that lead to negative growth? Justify with specific reason."
      ],
      "metadata": {
        "id": "3MPXvC8up1cl"
      }
    },
    {
      "cell_type": "markdown",
      "source": [
        "Answer Here"
      ],
      "metadata": {
        "id": "GL8l1tdLp1cl"
      }
    },
    {
      "cell_type": "markdown",
      "source": [
        "#### Chart - 14 - Correlation Heatmap"
      ],
      "metadata": {
        "id": "NC_X3p0fY2L0"
      }
    },
    {
      "cell_type": "code",
      "source": [
        "# Correlation Heatmap visualization code"
      ],
      "metadata": {
        "id": "xyC9zolEZNRQ"
      },
      "execution_count": 26,
      "outputs": []
    },
    {
      "cell_type": "markdown",
      "source": [
        "##### 1. Why did you pick the specific chart?"
      ],
      "metadata": {
        "id": "UV0SzAkaZNRQ"
      }
    },
    {
      "cell_type": "markdown",
      "source": [
        "Answer Here."
      ],
      "metadata": {
        "id": "DVPuT8LYZNRQ"
      }
    },
    {
      "cell_type": "markdown",
      "source": [
        "##### 2. What is/are the insight(s) found from the chart?"
      ],
      "metadata": {
        "id": "YPEH6qLeZNRQ"
      }
    },
    {
      "cell_type": "markdown",
      "source": [
        "Answer Here"
      ],
      "metadata": {
        "id": "bfSqtnDqZNRR"
      }
    },
    {
      "cell_type": "markdown",
      "source": [
        "#### Chart - 15 - Pair Plot"
      ],
      "metadata": {
        "id": "q29F0dvdveiT"
      }
    },
    {
      "cell_type": "code",
      "source": [
        "# Pair Plot visualization code"
      ],
      "metadata": {
        "id": "o58-TEIhveiU"
      },
      "execution_count": 27,
      "outputs": []
    },
    {
      "cell_type": "markdown",
      "source": [
        "##### 1. Why did you pick the specific chart?"
      ],
      "metadata": {
        "id": "EXh0U9oCveiU"
      }
    },
    {
      "cell_type": "markdown",
      "source": [
        "Answer Here."
      ],
      "metadata": {
        "id": "eMmPjTByveiU"
      }
    },
    {
      "cell_type": "markdown",
      "source": [
        "##### 2. What is/are the insight(s) found from the chart?"
      ],
      "metadata": {
        "id": "22aHeOlLveiV"
      }
    },
    {
      "cell_type": "markdown",
      "source": [
        "Answer Here"
      ],
      "metadata": {
        "id": "uPQ8RGwHveiV"
      }
    },
    {
      "cell_type": "markdown",
      "source": [
        "## ***5. Hypothesis Testing***"
      ],
      "metadata": {
        "id": "g-ATYxFrGrvw"
      }
    },
    {
      "cell_type": "markdown",
      "source": [
        "### Based on your chart experiments, define three hypothetical statements from the dataset. In the next three questions, perform hypothesis testing to obtain final conclusion about the statements through your code and statistical testing."
      ],
      "metadata": {
        "id": "Yfr_Vlr8HBkt"
      }
    },
    {
      "cell_type": "markdown",
      "source": [
        "Answer Here."
      ],
      "metadata": {
        "id": "-7MS06SUHkB-"
      }
    },
    {
      "cell_type": "markdown",
      "source": [
        "### Hypothetical Statement - 1"
      ],
      "metadata": {
        "id": "8yEUt7NnHlrM"
      }
    },
    {
      "cell_type": "markdown",
      "source": [
        "#### 1. State Your research hypothesis as a null hypothesis and alternate hypothesis."
      ],
      "metadata": {
        "id": "tEA2Xm5dHt1r"
      }
    },
    {
      "cell_type": "markdown",
      "source": [
        "Answer Here."
      ],
      "metadata": {
        "id": "HI9ZP0laH0D-"
      }
    },
    {
      "cell_type": "markdown",
      "source": [
        "#### 2. Perform an appropriate statistical test."
      ],
      "metadata": {
        "id": "I79__PHVH19G"
      }
    },
    {
      "cell_type": "code",
      "source": [
        "# Perform Statistical Test to obtain P-Value"
      ],
      "metadata": {
        "id": "oZrfquKtyian"
      },
      "execution_count": 28,
      "outputs": []
    },
    {
      "cell_type": "markdown",
      "source": [
        "##### Which statistical test have you done to obtain P-Value?"
      ],
      "metadata": {
        "id": "Ou-I18pAyIpj"
      }
    },
    {
      "cell_type": "markdown",
      "source": [
        "Answer Here."
      ],
      "metadata": {
        "id": "s2U0kk00ygSB"
      }
    },
    {
      "cell_type": "markdown",
      "source": [
        "##### Why did you choose the specific statistical test?"
      ],
      "metadata": {
        "id": "fF3858GYyt-u"
      }
    },
    {
      "cell_type": "markdown",
      "source": [
        "Answer Here."
      ],
      "metadata": {
        "id": "HO4K0gP5y3B4"
      }
    },
    {
      "cell_type": "markdown",
      "source": [
        "### Hypothetical Statement - 2"
      ],
      "metadata": {
        "id": "4_0_7-oCpUZd"
      }
    },
    {
      "cell_type": "markdown",
      "source": [
        "#### 1. State Your research hypothesis as a null hypothesis and alternate hypothesis."
      ],
      "metadata": {
        "id": "hwyV_J3ipUZe"
      }
    },
    {
      "cell_type": "markdown",
      "source": [
        "Answer Here."
      ],
      "metadata": {
        "id": "FnpLGJ-4pUZe"
      }
    },
    {
      "cell_type": "markdown",
      "source": [
        "#### 2. Perform an appropriate statistical test."
      ],
      "metadata": {
        "id": "3yB-zSqbpUZe"
      }
    },
    {
      "cell_type": "code",
      "source": [
        "# Perform Statistical Test to obtain P-Value"
      ],
      "metadata": {
        "id": "sWxdNTXNpUZe"
      },
      "execution_count": 29,
      "outputs": []
    },
    {
      "cell_type": "markdown",
      "source": [
        "##### Which statistical test have you done to obtain P-Value?"
      ],
      "metadata": {
        "id": "dEUvejAfpUZe"
      }
    },
    {
      "cell_type": "markdown",
      "source": [
        "Answer Here."
      ],
      "metadata": {
        "id": "oLDrPz7HpUZf"
      }
    },
    {
      "cell_type": "markdown",
      "source": [
        "##### Why did you choose the specific statistical test?"
      ],
      "metadata": {
        "id": "Fd15vwWVpUZf"
      }
    },
    {
      "cell_type": "markdown",
      "source": [
        "Answer Here."
      ],
      "metadata": {
        "id": "4xOGYyiBpUZf"
      }
    },
    {
      "cell_type": "markdown",
      "source": [
        "### Hypothetical Statement - 3"
      ],
      "metadata": {
        "id": "bn_IUdTipZyH"
      }
    },
    {
      "cell_type": "markdown",
      "source": [
        "#### 1. State Your research hypothesis as a null hypothesis and alternate hypothesis."
      ],
      "metadata": {
        "id": "49K5P_iCpZyH"
      }
    },
    {
      "cell_type": "markdown",
      "source": [
        "Answer Here."
      ],
      "metadata": {
        "id": "7gWI5rT9pZyH"
      }
    },
    {
      "cell_type": "markdown",
      "source": [
        "#### 2. Perform an appropriate statistical test."
      ],
      "metadata": {
        "id": "Nff-vKELpZyI"
      }
    },
    {
      "cell_type": "code",
      "source": [
        "# Perform Statistical Test to obtain P-Value"
      ],
      "metadata": {
        "id": "s6AnJQjtpZyI"
      },
      "execution_count": 30,
      "outputs": []
    },
    {
      "cell_type": "markdown",
      "source": [
        "##### Which statistical test have you done to obtain P-Value?"
      ],
      "metadata": {
        "id": "kLW572S8pZyI"
      }
    },
    {
      "cell_type": "markdown",
      "source": [
        "Answer Here."
      ],
      "metadata": {
        "id": "ytWJ8v15pZyI"
      }
    },
    {
      "cell_type": "markdown",
      "source": [
        "##### Why did you choose the specific statistical test?"
      ],
      "metadata": {
        "id": "dWbDXHzopZyI"
      }
    },
    {
      "cell_type": "markdown",
      "source": [
        "Answer Here."
      ],
      "metadata": {
        "id": "M99G98V6pZyI"
      }
    },
    {
      "cell_type": "markdown",
      "source": [
        "## ***6. Feature Engineering & Data Pre-processing***"
      ],
      "metadata": {
        "id": "yLjJCtPM0KBk"
      }
    },
    {
      "cell_type": "markdown",
      "source": [
        "### 1. Handling Missing Values"
      ],
      "metadata": {
        "id": "xiyOF9F70UgQ"
      }
    },
    {
      "cell_type": "code",
      "source": [
        "# Handling Missing Values & Missing Value Imputation"
      ],
      "metadata": {
        "id": "iRsAHk1K0fpS"
      },
      "execution_count": 31,
      "outputs": []
    },
    {
      "cell_type": "markdown",
      "source": [
        "#### What all missing value imputation techniques have you used and why did you use those techniques?"
      ],
      "metadata": {
        "id": "7wuGOrhz0itI"
      }
    },
    {
      "cell_type": "markdown",
      "source": [
        "Answer Here."
      ],
      "metadata": {
        "id": "1ixusLtI0pqI"
      }
    },
    {
      "cell_type": "markdown",
      "source": [
        "### 2. Handling Outliers"
      ],
      "metadata": {
        "id": "id1riN9m0vUs"
      }
    },
    {
      "cell_type": "code",
      "source": [
        "# Handling Outliers & Outlier treatments"
      ],
      "metadata": {
        "id": "M6w2CzZf04JK"
      },
      "execution_count": 32,
      "outputs": []
    },
    {
      "cell_type": "markdown",
      "source": [
        "##### What all outlier treatment techniques have you used and why did you use those techniques?"
      ],
      "metadata": {
        "id": "578E2V7j08f6"
      }
    },
    {
      "cell_type": "markdown",
      "source": [
        "Answer Here."
      ],
      "metadata": {
        "id": "uGZz5OrT1HH-"
      }
    },
    {
      "cell_type": "markdown",
      "source": [
        "### 3. Categorical Encoding"
      ],
      "metadata": {
        "id": "89xtkJwZ18nB"
      }
    },
    {
      "cell_type": "code",
      "source": [
        "# Encode your categorical columns"
      ],
      "metadata": {
        "id": "21JmIYMG2hEo"
      },
      "execution_count": 33,
      "outputs": []
    },
    {
      "cell_type": "markdown",
      "source": [
        "#### What all categorical encoding techniques have you used & why did you use those techniques?"
      ],
      "metadata": {
        "id": "67NQN5KX2AMe"
      }
    },
    {
      "cell_type": "markdown",
      "source": [
        "Answer Here."
      ],
      "metadata": {
        "id": "UDaue5h32n_G"
      }
    },
    {
      "cell_type": "markdown",
      "source": [
        "### 4. Textual Data Preprocessing\n",
        "(It's mandatory for textual dataset i.e., NLP, Sentiment Analysis, Text Clustering etc.)"
      ],
      "metadata": {
        "id": "Iwf50b-R2tYG"
      }
    },
    {
      "cell_type": "markdown",
      "source": [
        "#### 1. Expand Contraction"
      ],
      "metadata": {
        "id": "GMQiZwjn3iu7"
      }
    },
    {
      "cell_type": "code",
      "source": [
        "# Expand Contraction"
      ],
      "metadata": {
        "id": "PTouz10C3oNN"
      },
      "execution_count": 34,
      "outputs": []
    },
    {
      "cell_type": "markdown",
      "source": [
        "#### 2. Lower Casing"
      ],
      "metadata": {
        "id": "WVIkgGqN3qsr"
      }
    },
    {
      "cell_type": "code",
      "source": [
        "# Lower Casing"
      ],
      "metadata": {
        "id": "88JnJ1jN3w7j"
      },
      "execution_count": 35,
      "outputs": []
    },
    {
      "cell_type": "markdown",
      "source": [
        "#### 3. Removing Punctuations"
      ],
      "metadata": {
        "id": "XkPnILGE3zoT"
      }
    },
    {
      "cell_type": "code",
      "source": [
        "# Remove Punctuations"
      ],
      "metadata": {
        "id": "vqbBqNaA33c0"
      },
      "execution_count": 36,
      "outputs": []
    },
    {
      "cell_type": "markdown",
      "source": [
        "#### 4. Removing URLs & Removing words and digits contain digits."
      ],
      "metadata": {
        "id": "Hlsf0x5436Go"
      }
    },
    {
      "cell_type": "code",
      "source": [
        "# Remove URLs & Remove words and digits contain digits"
      ],
      "metadata": {
        "id": "2sxKgKxu4Ip3"
      },
      "execution_count": 37,
      "outputs": []
    },
    {
      "cell_type": "markdown",
      "source": [
        "#### 5. Removing Stopwords & Removing White spaces"
      ],
      "metadata": {
        "id": "mT9DMSJo4nBL"
      }
    },
    {
      "cell_type": "code",
      "source": [
        "# Remove Stopwords"
      ],
      "metadata": {
        "id": "T2LSJh154s8W"
      },
      "execution_count": 38,
      "outputs": []
    },
    {
      "cell_type": "code",
      "source": [
        "# Remove White spaces"
      ],
      "metadata": {
        "id": "EgLJGffy4vm0"
      },
      "execution_count": 39,
      "outputs": []
    },
    {
      "cell_type": "markdown",
      "source": [
        "#### 6. Rephrase Text"
      ],
      "metadata": {
        "id": "c49ITxTc407N"
      }
    },
    {
      "cell_type": "code",
      "source": [
        "# Rephrase Text"
      ],
      "metadata": {
        "id": "foqY80Qu48N2"
      },
      "execution_count": 40,
      "outputs": []
    },
    {
      "cell_type": "markdown",
      "source": [
        "#### 7. Tokenization"
      ],
      "metadata": {
        "id": "OeJFEK0N496M"
      }
    },
    {
      "cell_type": "code",
      "source": [
        "# Tokenization"
      ],
      "metadata": {
        "id": "ijx1rUOS5CUU"
      },
      "execution_count": 41,
      "outputs": []
    },
    {
      "cell_type": "markdown",
      "source": [
        "#### 8. Text Normalization"
      ],
      "metadata": {
        "id": "9ExmJH0g5HBk"
      }
    },
    {
      "cell_type": "code",
      "source": [
        "# Normalizing Text (i.e., Stemming, Lemmatization etc.)"
      ],
      "metadata": {
        "id": "AIJ1a-Zc5PY8"
      },
      "execution_count": 42,
      "outputs": []
    },
    {
      "cell_type": "markdown",
      "source": [
        "##### Which text normalization technique have you used and why?"
      ],
      "metadata": {
        "id": "cJNqERVU536h"
      }
    },
    {
      "cell_type": "markdown",
      "source": [
        "Answer Here."
      ],
      "metadata": {
        "id": "Z9jKVxE06BC1"
      }
    },
    {
      "cell_type": "markdown",
      "source": [
        "#### 9. Part of speech tagging"
      ],
      "metadata": {
        "id": "k5UmGsbsOxih"
      }
    },
    {
      "cell_type": "code",
      "source": [
        "# POS Taging"
      ],
      "metadata": {
        "id": "btT3ZJBAO6Ik"
      },
      "execution_count": 43,
      "outputs": []
    },
    {
      "cell_type": "markdown",
      "source": [
        "#### 10. Text Vectorization"
      ],
      "metadata": {
        "id": "T0VqWOYE6DLQ"
      }
    },
    {
      "cell_type": "code",
      "source": [
        "# Vectorizing Text"
      ],
      "metadata": {
        "id": "yBRtdhth6JDE"
      },
      "execution_count": 44,
      "outputs": []
    },
    {
      "cell_type": "markdown",
      "source": [
        "##### Which text vectorization technique have you used and why?"
      ],
      "metadata": {
        "id": "qBMux9mC6MCf"
      }
    },
    {
      "cell_type": "markdown",
      "source": [
        "Answer Here."
      ],
      "metadata": {
        "id": "su2EnbCh6UKQ"
      }
    },
    {
      "cell_type": "markdown",
      "source": [
        "### 4. Feature Manipulation & Selection"
      ],
      "metadata": {
        "id": "-oLEiFgy-5Pf"
      }
    },
    {
      "cell_type": "markdown",
      "source": [
        "#### 1. Feature Manipulation"
      ],
      "metadata": {
        "id": "C74aWNz2AliB"
      }
    },
    {
      "cell_type": "code",
      "source": [
        "# Manipulate Features to minimize feature correlation and create new features"
      ],
      "metadata": {
        "id": "h1qC4yhBApWC"
      },
      "execution_count": 45,
      "outputs": []
    },
    {
      "cell_type": "markdown",
      "source": [
        "#### 2. Feature Selection"
      ],
      "metadata": {
        "id": "2DejudWSA-a0"
      }
    },
    {
      "cell_type": "code",
      "source": [
        "# Select your features wisely to avoid overfitting"
      ],
      "metadata": {
        "id": "YLhe8UmaBCEE"
      },
      "execution_count": 46,
      "outputs": []
    },
    {
      "cell_type": "markdown",
      "source": [
        "##### What all feature selection methods have you used  and why?"
      ],
      "metadata": {
        "id": "pEMng2IbBLp7"
      }
    },
    {
      "cell_type": "markdown",
      "source": [
        "Answer Here."
      ],
      "metadata": {
        "id": "rb2Lh6Z8BgGs"
      }
    },
    {
      "cell_type": "markdown",
      "source": [
        "##### Which all features you found important and why?"
      ],
      "metadata": {
        "id": "rAdphbQ9Bhjc"
      }
    },
    {
      "cell_type": "markdown",
      "source": [
        "Answer Here."
      ],
      "metadata": {
        "id": "fGgaEstsBnaf"
      }
    },
    {
      "cell_type": "markdown",
      "source": [
        "### 5. Data Transformation"
      ],
      "metadata": {
        "id": "TNVZ9zx19K6k"
      }
    },
    {
      "cell_type": "markdown",
      "source": [
        "#### Do you think that your data needs to be transformed? If yes, which transformation have you used. Explain Why?"
      ],
      "metadata": {
        "id": "nqoHp30x9hH9"
      }
    },
    {
      "cell_type": "code",
      "source": [
        "# Transform Your data"
      ],
      "metadata": {
        "id": "I6quWQ1T9rtH"
      },
      "execution_count": 47,
      "outputs": []
    },
    {
      "cell_type": "markdown",
      "source": [
        "### 6. Data Scaling"
      ],
      "metadata": {
        "id": "rMDnDkt2B6du"
      }
    },
    {
      "cell_type": "code",
      "source": [
        "# Scaling your data"
      ],
      "metadata": {
        "id": "dL9LWpySC6x_"
      },
      "execution_count": 48,
      "outputs": []
    },
    {
      "cell_type": "markdown",
      "source": [
        "##### Which method have you used to scale you data and why?"
      ],
      "metadata": {
        "id": "yiiVWRdJDDil"
      }
    },
    {
      "cell_type": "markdown",
      "source": [
        "### 7. Dimesionality Reduction"
      ],
      "metadata": {
        "id": "1UUpS68QDMuG"
      }
    },
    {
      "cell_type": "markdown",
      "source": [
        "##### Do you think that dimensionality reduction is needed? Explain Why?"
      ],
      "metadata": {
        "id": "kexQrXU-DjzY"
      }
    },
    {
      "cell_type": "markdown",
      "source": [
        "Answer Here."
      ],
      "metadata": {
        "id": "GGRlBsSGDtTQ"
      }
    },
    {
      "cell_type": "code",
      "source": [
        "# DImensionality Reduction (If needed)"
      ],
      "metadata": {
        "id": "kQfvxBBHDvCa"
      },
      "execution_count": 49,
      "outputs": []
    },
    {
      "cell_type": "markdown",
      "source": [
        "##### Which dimensionality reduction technique have you used and why? (If dimensionality reduction done on dataset.)"
      ],
      "metadata": {
        "id": "T5CmagL3EC8N"
      }
    },
    {
      "cell_type": "markdown",
      "source": [
        "Answer Here."
      ],
      "metadata": {
        "id": "ZKr75IDuEM7t"
      }
    },
    {
      "cell_type": "markdown",
      "source": [
        "### 8. Data Splitting"
      ],
      "metadata": {
        "id": "BhH2vgX9EjGr"
      }
    },
    {
      "cell_type": "code",
      "source": [
        "# Split your data to train and test. Choose Splitting ratio wisely."
      ],
      "metadata": {
        "id": "0CTyd2UwEyNM"
      },
      "execution_count": 50,
      "outputs": []
    },
    {
      "cell_type": "markdown",
      "source": [
        "##### What data splitting ratio have you used and why?"
      ],
      "metadata": {
        "id": "qjKvONjwE8ra"
      }
    },
    {
      "cell_type": "markdown",
      "source": [
        "Answer Here."
      ],
      "metadata": {
        "id": "Y2lJ8cobFDb_"
      }
    },
    {
      "cell_type": "markdown",
      "source": [
        "### 9. Handling Imbalanced Dataset"
      ],
      "metadata": {
        "id": "P1XJ9OREExlT"
      }
    },
    {
      "cell_type": "markdown",
      "source": [
        "##### Do you think the dataset is imbalanced? Explain Why."
      ],
      "metadata": {
        "id": "VFOzZv6IFROw"
      }
    },
    {
      "cell_type": "markdown",
      "source": [
        "Answer Here."
      ],
      "metadata": {
        "id": "GeKDIv7pFgcC"
      }
    },
    {
      "cell_type": "code",
      "source": [
        "# Handling Imbalanced Dataset (If needed)"
      ],
      "metadata": {
        "id": "nQsRhhZLFiDs"
      },
      "execution_count": 51,
      "outputs": []
    },
    {
      "cell_type": "markdown",
      "source": [
        "##### What technique did you use to handle the imbalance dataset and why? (If needed to be balanced)"
      ],
      "metadata": {
        "id": "TIqpNgepFxVj"
      }
    },
    {
      "cell_type": "markdown",
      "source": [
        "Answer Here."
      ],
      "metadata": {
        "id": "qbet1HwdGDTz"
      }
    },
    {
      "cell_type": "markdown",
      "source": [
        "## ***7. ML Model Implementation***"
      ],
      "metadata": {
        "id": "VfCC591jGiD4"
      }
    },
    {
      "cell_type": "markdown",
      "source": [
        "### ML Model - 1"
      ],
      "metadata": {
        "id": "OB4l2ZhMeS1U"
      }
    },
    {
      "cell_type": "code",
      "source": [
        "# ML Model - 1 Implementation\n",
        "\n",
        "# Fit the Algorithm\n",
        "\n",
        "# Predict on the model"
      ],
      "metadata": {
        "id": "7ebyywQieS1U"
      },
      "execution_count": 52,
      "outputs": []
    },
    {
      "cell_type": "markdown",
      "source": [
        "#### 1. Explain the ML Model used and it's performance using Evaluation metric Score Chart."
      ],
      "metadata": {
        "id": "ArJBuiUVfxKd"
      }
    },
    {
      "cell_type": "code",
      "source": [
        "# Visualizing evaluation Metric Score chart"
      ],
      "metadata": {
        "id": "rqD5ZohzfxKe"
      },
      "execution_count": 53,
      "outputs": []
    },
    {
      "cell_type": "markdown",
      "source": [
        "#### 2. Cross- Validation & Hyperparameter Tuning"
      ],
      "metadata": {
        "id": "4qY1EAkEfxKe"
      }
    },
    {
      "cell_type": "code",
      "source": [
        "# ML Model - 1 Implementation with hyperparameter optimization techniques (i.e., GridSearch CV, RandomSearch CV, Bayesian Optimization etc.)\n",
        "\n",
        "# Fit the Algorithm\n",
        "\n",
        "# Predict on the model"
      ],
      "metadata": {
        "id": "Dy61ujd6fxKe"
      },
      "execution_count": 54,
      "outputs": []
    },
    {
      "cell_type": "markdown",
      "source": [
        "##### Which hyperparameter optimization technique have you used and why?"
      ],
      "metadata": {
        "id": "PiV4Ypx8fxKe"
      }
    },
    {
      "cell_type": "markdown",
      "source": [
        "Answer Here."
      ],
      "metadata": {
        "id": "negyGRa7fxKf"
      }
    },
    {
      "cell_type": "markdown",
      "source": [
        "##### Have you seen any improvement? Note down the improvement with updates Evaluation metric Score Chart."
      ],
      "metadata": {
        "id": "TfvqoZmBfxKf"
      }
    },
    {
      "cell_type": "markdown",
      "source": [
        "Answer Here."
      ],
      "metadata": {
        "id": "OaLui8CcfxKf"
      }
    },
    {
      "cell_type": "markdown",
      "source": [
        "### ML Model - 2"
      ],
      "metadata": {
        "id": "dJ2tPlVmpsJ0"
      }
    },
    {
      "cell_type": "markdown",
      "source": [
        "#### 1. Explain the ML Model used and it's performance using Evaluation metric Score Chart."
      ],
      "metadata": {
        "id": "JWYfwnehpsJ1"
      }
    },
    {
      "cell_type": "code",
      "source": [
        "# Visualizing evaluation Metric Score chart"
      ],
      "metadata": {
        "id": "yEl-hgQWpsJ1"
      },
      "execution_count": 55,
      "outputs": []
    },
    {
      "cell_type": "markdown",
      "source": [
        "#### 2. Cross- Validation & Hyperparameter Tuning"
      ],
      "metadata": {
        "id": "-jK_YjpMpsJ2"
      }
    },
    {
      "cell_type": "code",
      "source": [
        "# ML Model - 1 Implementation with hyperparameter optimization techniques (i.e., GridSearch CV, RandomSearch CV, Bayesian Optimization etc.)\n",
        "\n",
        "# Fit the Algorithm\n",
        "\n",
        "# Predict on the model"
      ],
      "metadata": {
        "id": "Dn0EOfS6psJ2"
      },
      "execution_count": 56,
      "outputs": []
    },
    {
      "cell_type": "markdown",
      "source": [
        "##### Which hyperparameter optimization technique have you used and why?"
      ],
      "metadata": {
        "id": "HAih1iBOpsJ2"
      }
    },
    {
      "cell_type": "markdown",
      "source": [
        "Answer Here."
      ],
      "metadata": {
        "id": "9kBgjYcdpsJ2"
      }
    },
    {
      "cell_type": "markdown",
      "source": [
        "##### Have you seen any improvement? Note down the improvement with updates Evaluation metric Score Chart."
      ],
      "metadata": {
        "id": "zVGeBEFhpsJ2"
      }
    },
    {
      "cell_type": "markdown",
      "source": [
        "Answer Here."
      ],
      "metadata": {
        "id": "74yRdG6UpsJ3"
      }
    },
    {
      "cell_type": "markdown",
      "source": [
        "#### 3. Explain each evaluation metric's indication towards business and the business impact pf the ML model used."
      ],
      "metadata": {
        "id": "bmKjuQ-FpsJ3"
      }
    },
    {
      "cell_type": "markdown",
      "source": [
        "Answer Here."
      ],
      "metadata": {
        "id": "BDKtOrBQpsJ3"
      }
    },
    {
      "cell_type": "markdown",
      "source": [
        "### ML Model - 3"
      ],
      "metadata": {
        "id": "Fze-IPXLpx6K"
      }
    },
    {
      "cell_type": "code",
      "source": [
        "# ML Model - 3 Implementation\n",
        "\n",
        "# Fit the Algorithm\n",
        "\n",
        "# Predict on the model"
      ],
      "metadata": {
        "id": "FFrSXAtrpx6M"
      },
      "execution_count": 57,
      "outputs": []
    },
    {
      "cell_type": "markdown",
      "source": [
        "#### 1. Explain the ML Model used and it's performance using Evaluation metric Score Chart."
      ],
      "metadata": {
        "id": "7AN1z2sKpx6M"
      }
    },
    {
      "cell_type": "code",
      "source": [
        "# Visualizing evaluation Metric Score chart"
      ],
      "metadata": {
        "id": "xIY4lxxGpx6M"
      },
      "execution_count": 58,
      "outputs": []
    },
    {
      "cell_type": "markdown",
      "source": [
        "#### 2. Cross- Validation & Hyperparameter Tuning"
      ],
      "metadata": {
        "id": "9PIHJqyupx6M"
      }
    },
    {
      "cell_type": "code",
      "source": [
        "# ML Model - 3 Implementation with hyperparameter optimization techniques (i.e., GridSearch CV, RandomSearch CV, Bayesian Optimization etc.)\n",
        "\n",
        "# Fit the Algorithm\n",
        "\n",
        "# Predict on the model"
      ],
      "metadata": {
        "id": "eSVXuaSKpx6M"
      },
      "execution_count": 59,
      "outputs": []
    },
    {
      "cell_type": "markdown",
      "source": [
        "##### Which hyperparameter optimization technique have you used and why?"
      ],
      "metadata": {
        "id": "_-qAgymDpx6N"
      }
    },
    {
      "cell_type": "markdown",
      "source": [
        "Answer Here."
      ],
      "metadata": {
        "id": "lQMffxkwpx6N"
      }
    },
    {
      "cell_type": "markdown",
      "source": [
        "##### Have you seen any improvement? Note down the improvement with updates Evaluation metric Score Chart."
      ],
      "metadata": {
        "id": "Z-hykwinpx6N"
      }
    },
    {
      "cell_type": "markdown",
      "source": [
        "Answer Here."
      ],
      "metadata": {
        "id": "MzVzZC6opx6N"
      }
    },
    {
      "cell_type": "markdown",
      "source": [
        "### 1. Which Evaluation metrics did you consider for a positive business impact and why?"
      ],
      "metadata": {
        "id": "h_CCil-SKHpo"
      }
    },
    {
      "cell_type": "markdown",
      "source": [
        "Answer Here."
      ],
      "metadata": {
        "id": "jHVz9hHDKFms"
      }
    },
    {
      "cell_type": "markdown",
      "source": [
        "### 2. Which ML model did you choose from the above created models as your final prediction model and why?"
      ],
      "metadata": {
        "id": "cBFFvTBNJzUa"
      }
    },
    {
      "cell_type": "markdown",
      "source": [
        "Answer Here."
      ],
      "metadata": {
        "id": "6ksF5Q1LKTVm"
      }
    },
    {
      "cell_type": "markdown",
      "source": [
        "### 3. Explain the model which you have used and the feature importance using any model explainability tool?"
      ],
      "metadata": {
        "id": "HvGl1hHyA_VK"
      }
    },
    {
      "cell_type": "markdown",
      "source": [
        "Answer Here."
      ],
      "metadata": {
        "id": "YnvVTiIxBL-C"
      }
    },
    {
      "cell_type": "markdown",
      "source": [
        "## ***8.*** ***Future Work (Optional)***"
      ],
      "metadata": {
        "id": "EyNgTHvd2WFk"
      }
    },
    {
      "cell_type": "markdown",
      "source": [
        "### 1. Save the best performing ml model in a pickle file or joblib file format for deployment process.\n"
      ],
      "metadata": {
        "id": "KH5McJBi2d8v"
      }
    },
    {
      "cell_type": "code",
      "source": [
        "# Save the File"
      ],
      "metadata": {
        "id": "bQIANRl32f4J"
      },
      "execution_count": 60,
      "outputs": []
    },
    {
      "cell_type": "markdown",
      "source": [
        "### 2. Again Load the saved model file and try to predict unseen data for a sanity check.\n"
      ],
      "metadata": {
        "id": "iW_Lq9qf2h6X"
      }
    },
    {
      "cell_type": "code",
      "source": [
        "# Load the File and predict unseen data."
      ],
      "metadata": {
        "id": "oEXk9ydD2nVC"
      },
      "execution_count": 61,
      "outputs": []
    },
    {
      "cell_type": "markdown",
      "source": [
        "### ***Congrats! Your model is successfully created and ready for deployment on a live server for a real user interaction !!!***"
      ],
      "metadata": {
        "id": "-Kee-DAl2viO"
      }
    },
    {
      "cell_type": "markdown",
      "source": [
        "# **Conclusion**"
      ],
      "metadata": {
        "id": "gCX9965dhzqZ"
      }
    },
    {
      "cell_type": "markdown",
      "source": [
        "Write the conclusion here."
      ],
      "metadata": {
        "id": "Fjb1IsQkh3yE"
      }
    },
    {
      "cell_type": "markdown",
      "source": [
        "### ***Hurrah! You have successfully completed your Machine Learning Capstone Project !!!***"
      ],
      "metadata": {
        "id": "gIfDvo9L0UH2"
      }
    }
  ]
}